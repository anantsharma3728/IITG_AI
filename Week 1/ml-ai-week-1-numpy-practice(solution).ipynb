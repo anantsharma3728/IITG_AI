{
 "cells": [
  {
   "cell_type": "markdown",
   "metadata": {},
   "source": [
    "<h1 align = 'center' style = \"font-size:60px; font-family:verdana ; font-weight : normal; background-color: #f6f5f5 ; color : #fe346e; text-align: center; border-radius: 100px 100px; padding: 10px\"> ML.AI Week 1 Data Structures in Python Tutorial</h1>\n",
    "\n",
    "<div class=\"alert alert-block alert-info\" style=\"font-size:14px; font-family:verdana; line-height: 1.7em; background-color:#5642C5; color:white;\">\n",
    "📌 &nbsp; About ML.AI<br>\n",
    " MachineLearning.AI is a 7 week course, and it will take you from the basics of Python to the detailed knowledge about Data Science and Machine Learning as well as an Introduction to Neural Networks and Deep Learning. \n",
    "<br><br>\n",
    "The course offers a comprehensive blend of high-quality resources sourced from the internet, including engaging videos, informative blogs, weekly assignments, and culminating in an exciting hackathon to assess your knowledge and skills. By the end of 7 weeks, you will have a solid understanding of the key concepts and techniques of Machine Learning as well as an appreciation of their potential impact on our society.\n",
    "<br><br>\n",
    "    \n",
    "📌 &nbsp; Structure of the Course<br><br>\n",
    "Week 1:  Introduction To Python & Python Libraries<br>\n",
    "Week 2: Introduction to ML and Basic ML Algorithms<br>\n",
    "Week 3: Advanced ML Algorithms<br>\n",
    "Week 4: Unsupervised Learning Hackathon<br>\n",
    "Week 5: Ensemble Learning and Dealing with Real World Data<br>\n",
    "Week 6: Introduction to Neural Networks and Deep Learning<br>\n",
    "Week 7: Final Hackathon<br>\n",
    "<br>\n",
    "📌 &nbsp; What Next?<br>Advanced ML.AI, a guiding resource for Deep Learning Specialization\n",
    "</div>"
   ]
  },
  {
   "cell_type": "markdown",
   "metadata": {},
   "source": [
    "## What and Why NumPy?\n",
    "\n",
    "NumPy is a Python library used for scientific computing and data analysis. It provides support for large, multi-dimensional arrays and matrices, as well as a large collection of mathematical functions to operate on these arrays. NumPy is often used for tasks such as linear algebra, Fourier transform, and random number generation.\n",
    "\n",
    "There are several reasons **why NumPy** is a popular choice for scientific computing:\n",
    "\n",
    "* **Fast**: NumPy is written in C and is optimized for performance, making it much faster than Python's built-in data structures.\n",
    "* **Efficient memory usage**: NumPy's arrays are stored in contiguous memory, which means they use less memory than Python's built-in data structures.\n",
    "* **Broadcasting**: NumPy allows you to perform operations on arrays of different shapes and sizes, by automatically broadcasting the smaller array to match the larger array.\n",
    "* **Interoperability**: NumPy can easily interface with other languages, such as C and Fortran.\n",
    "* **Large collection of mathematical functions**: NumPy provides a large collection of mathematical functions for operations such as trigonometry, logarithms, and exponentials.\n",
    "\n",
    "Overall, NumPy is a powerful and efficient library that is widely used in scientific computing and data analysis.\n",
    "\n",
    "For in depth tutorials and study material on Numpy, visit our course page at: [Insert Link]"
   ]
  },
  {
   "cell_type": "markdown",
   "metadata": {},
   "source": [
    "## From lists to numpy array\n",
    "\n",
    "Python lists are very general.\n",
    "* They can contain any kind of object (or a mix of objects).\n",
    "* They are dynamically typed.\n",
    "* They do not support mathematical functions such as matrix and dot multiplications, etc. Implementing mathematical functions for Python lists would not be very efficient because of the dynamic typing.\n",
    "\n",
    "Numpy arrays are statically typed and homogeneous. The type of the elements is determined when the array is created. Because of the static typing, fast implementation of mathematical functions such as multiplication and addition of numpy arrays can be implemented in a compiled language (C and Fortran is used). Since Numpy arrays are statically typed, the type of an array does not change once created. But we can explicitly cast an array of some type to another using the astype functions (see also the similar asarray function). This always creates a new array of new type.\n",
    "\n",
    "Let's begin to interact with numpy package.\n",
    "In the below cell we import the numpy package as np. Then print the version of the package we just imported."
   ]
  },
  {
   "cell_type": "code",
   "execution_count": 1,
   "metadata": {
    "execution": {
     "iopub.execute_input": "2023-04-27T13:41:04.924781Z",
     "iopub.status.busy": "2023-04-27T13:41:04.92434Z",
     "iopub.status.idle": "2023-04-27T13:41:04.932188Z",
     "shell.execute_reply": "2023-04-27T13:41:04.930496Z",
     "shell.execute_reply.started": "2023-04-27T13:41:04.924744Z"
    }
   },
   "outputs": [
    {
     "name": "stdout",
     "output_type": "stream",
     "text": [
      "<module 'numpy.version' from 'c:\\\\users\\\\anant sharma\\\\appdata\\\\local\\\\programs\\\\python\\\\python39\\\\lib\\\\site-packages\\\\numpy\\\\version.py'>\n",
      "1.20.3\n"
     ]
    }
   ],
   "source": [
    "import numpy as np\n",
    "print(np.version)\n",
    "print(np.__version__)"
   ]
  },
  {
   "cell_type": "markdown",
   "metadata": {},
   "source": [
    "<h1 id = 'prac' style = \"font-size:30px; font-family:verdana ; font-weight : normal; background-color: #f6f5f5 ; color : #fe346e; text-align: center; border-radius: 100px 100px; padding: 10px\">Numpy Practice Exercises\n",
    "<a class=\"anchor-link\" href=\"https://www.kaggle.com/code/varunnagpalspyz/ml-ai-week-1-numpy-tutorial/notebook#prac\">¶</a>\n",
    "</h1>"
   ]
  },
  {
   "cell_type": "markdown",
   "metadata": {},
   "source": [
    "<h1>Basics</h1>"
   ]
  },
  {
   "cell_type": "markdown",
   "metadata": {},
   "source": [
    "## 1. Create an array of the integers from 10 to 50"
   ]
  },
  {
   "cell_type": "code",
   "execution_count": 2,
   "metadata": {
    "execution": {
     "iopub.execute_input": "2023-04-27T13:41:04.935849Z",
     "iopub.status.busy": "2023-04-27T13:41:04.935289Z",
     "iopub.status.idle": "2023-04-27T13:41:04.947784Z",
     "shell.execute_reply": "2023-04-27T13:41:04.94611Z",
     "shell.execute_reply.started": "2023-04-27T13:41:04.9358Z"
    }
   },
   "outputs": [
    {
     "name": "stdout",
     "output_type": "stream",
     "text": [
      "[10 11 12 13 14 15 16 17 18 19 20 21 22 23 24 25 26 27 28 29 30 31 32 33\n",
      " 34 35 36 37 38 39 40 41 42 43 44 45 46 47 48 49 50]\n"
     ]
    }
   ],
   "source": [
    "arr_10to50 = np.arange(10,51)\n",
    "print(arr_10to50)"
   ]
  },
  {
   "cell_type": "markdown",
   "metadata": {},
   "source": [
    "## 2 . Create an array of the even integers from 10 to 50"
   ]
  },
  {
   "cell_type": "code",
   "execution_count": 3,
   "metadata": {
    "execution": {
     "iopub.execute_input": "2023-04-27T13:41:04.950434Z",
     "iopub.status.busy": "2023-04-27T13:41:04.949969Z",
     "iopub.status.idle": "2023-04-27T13:41:04.961298Z",
     "shell.execute_reply": "2023-04-27T13:41:04.959362Z",
     "shell.execute_reply.started": "2023-04-27T13:41:04.950376Z"
    }
   },
   "outputs": [
    {
     "name": "stdout",
     "output_type": "stream",
     "text": [
      "[10 12 14 16 18 20 22 24 26 28 30 32 34 36 38 40 42 44 46 48 50]\n"
     ]
    }
   ],
   "source": [
    "arr_10to50_even = np.arange(10,51,2)\n",
    "print(arr_10to50_even)"
   ]
  },
  {
   "cell_type": "markdown",
   "metadata": {},
   "source": [
    "## 3. Creates a 3x3 matrix with values ranging from 1 to 9"
   ]
  },
  {
   "cell_type": "code",
   "execution_count": 4,
   "metadata": {
    "execution": {
     "iopub.execute_input": "2023-04-27T13:41:04.964839Z",
     "iopub.status.busy": "2023-04-27T13:41:04.964405Z",
     "iopub.status.idle": "2023-04-27T13:41:04.976969Z",
     "shell.execute_reply": "2023-04-27T13:41:04.975326Z",
     "shell.execute_reply.started": "2023-04-27T13:41:04.964805Z"
    }
   },
   "outputs": [
    {
     "data": {
      "text/plain": [
       "array([[1, 2, 3],\n",
       "       [4, 5, 6],\n",
       "       [7, 8, 9]])"
      ]
     },
     "execution_count": 4,
     "metadata": {},
     "output_type": "execute_result"
    }
   ],
   "source": [
    "np.arange(1,10).reshape(3,3)"
   ]
  },
  {
   "cell_type": "markdown",
   "metadata": {},
   "source": [
    "## 4. Use NumPy to generate a random number between 0 and 1"
   ]
  },
  {
   "cell_type": "code",
   "execution_count": 5,
   "metadata": {
    "execution": {
     "iopub.execute_input": "2023-04-27T13:41:04.979127Z",
     "iopub.status.busy": "2023-04-27T13:41:04.978701Z",
     "iopub.status.idle": "2023-04-27T13:41:04.995035Z",
     "shell.execute_reply": "2023-04-27T13:41:04.993271Z",
     "shell.execute_reply.started": "2023-04-27T13:41:04.979084Z"
    }
   },
   "outputs": [
    {
     "data": {
      "text/plain": [
       "array([0.88908637])"
      ]
     },
     "execution_count": 5,
     "metadata": {},
     "output_type": "execute_result"
    }
   ],
   "source": [
    "np.random.rand(1)"
   ]
  },
  {
   "cell_type": "markdown",
   "metadata": {},
   "source": [
    "## 5. Use NumPy to generate 25 random numbers sampled from a standard normal distribution"
   ]
  },
  {
   "cell_type": "code",
   "execution_count": 6,
   "metadata": {
    "execution": {
     "iopub.execute_input": "2023-04-27T13:41:04.999549Z",
     "iopub.status.busy": "2023-04-27T13:41:04.997635Z",
     "iopub.status.idle": "2023-04-27T13:41:05.00971Z",
     "shell.execute_reply": "2023-04-27T13:41:05.007931Z",
     "shell.execute_reply.started": "2023-04-27T13:41:04.999489Z"
    }
   },
   "outputs": [
    {
     "data": {
      "text/plain": [
       "array([-0.97112294, -0.57169655, -0.45158432, -0.34747795,  0.59991988,\n",
       "        0.73631879,  1.22407409, -1.76907744, -0.97378435,  1.24075413,\n",
       "        0.82099388,  1.27953044, -0.26809247, -0.4998866 , -0.35502314,\n",
       "       -0.04939679,  1.52904691,  0.54122812, -0.11678607, -0.51131771,\n",
       "       -0.49790557,  0.11094795,  0.47381812, -0.14718578,  1.22899714])"
      ]
     },
     "execution_count": 6,
     "metadata": {},
     "output_type": "execute_result"
    }
   ],
   "source": [
    "np.random.randn(25)"
   ]
  },
  {
   "cell_type": "markdown",
   "metadata": {},
   "source": [
    "## 6. Create a matrix of 100 items spaced equally at 0.01 steps ranged fro 0.01 to 1"
   ]
  },
  {
   "cell_type": "code",
   "execution_count": 7,
   "metadata": {
    "execution": {
     "iopub.execute_input": "2023-04-27T13:41:05.012446Z",
     "iopub.status.busy": "2023-04-27T13:41:05.011969Z",
     "iopub.status.idle": "2023-04-27T13:41:05.025587Z",
     "shell.execute_reply": "2023-04-27T13:41:05.024475Z",
     "shell.execute_reply.started": "2023-04-27T13:41:05.012382Z"
    }
   },
   "outputs": [
    {
     "data": {
      "text/plain": [
       "array([[0.01, 0.02, 0.03, 0.04, 0.05, 0.06, 0.07, 0.08, 0.09, 0.1 ],\n",
       "       [0.11, 0.12, 0.13, 0.14, 0.15, 0.16, 0.17, 0.18, 0.19, 0.2 ],\n",
       "       [0.21, 0.22, 0.23, 0.24, 0.25, 0.26, 0.27, 0.28, 0.29, 0.3 ],\n",
       "       [0.31, 0.32, 0.33, 0.34, 0.35, 0.36, 0.37, 0.38, 0.39, 0.4 ],\n",
       "       [0.41, 0.42, 0.43, 0.44, 0.45, 0.46, 0.47, 0.48, 0.49, 0.5 ],\n",
       "       [0.51, 0.52, 0.53, 0.54, 0.55, 0.56, 0.57, 0.58, 0.59, 0.6 ],\n",
       "       [0.61, 0.62, 0.63, 0.64, 0.65, 0.66, 0.67, 0.68, 0.69, 0.7 ],\n",
       "       [0.71, 0.72, 0.73, 0.74, 0.75, 0.76, 0.77, 0.78, 0.79, 0.8 ],\n",
       "       [0.81, 0.82, 0.83, 0.84, 0.85, 0.86, 0.87, 0.88, 0.89, 0.9 ],\n",
       "       [0.91, 0.92, 0.93, 0.94, 0.95, 0.96, 0.97, 0.98, 0.99, 1.  ]])"
      ]
     },
     "execution_count": 7,
     "metadata": {},
     "output_type": "execute_result"
    }
   ],
   "source": [
    "np.arange(1,101).reshape(10,10)/100"
   ]
  },
  {
   "cell_type": "code",
   "execution_count": 8,
   "metadata": {
    "execution": {
     "iopub.execute_input": "2023-04-27T13:41:05.027691Z",
     "iopub.status.busy": "2023-04-27T13:41:05.027133Z",
     "iopub.status.idle": "2023-04-27T13:41:05.043759Z",
     "shell.execute_reply": "2023-04-27T13:41:05.042377Z",
     "shell.execute_reply.started": "2023-04-27T13:41:05.027643Z"
    }
   },
   "outputs": [
    {
     "data": {
      "text/plain": [
       "array([[0.01, 0.02, 0.03, 0.04, 0.05, 0.06, 0.07, 0.08, 0.09, 0.1 ],\n",
       "       [0.11, 0.12, 0.13, 0.14, 0.15, 0.16, 0.17, 0.18, 0.19, 0.2 ],\n",
       "       [0.21, 0.22, 0.23, 0.24, 0.25, 0.26, 0.27, 0.28, 0.29, 0.3 ],\n",
       "       [0.31, 0.32, 0.33, 0.34, 0.35, 0.36, 0.37, 0.38, 0.39, 0.4 ],\n",
       "       [0.41, 0.42, 0.43, 0.44, 0.45, 0.46, 0.47, 0.48, 0.49, 0.5 ],\n",
       "       [0.51, 0.52, 0.53, 0.54, 0.55, 0.56, 0.57, 0.58, 0.59, 0.6 ],\n",
       "       [0.61, 0.62, 0.63, 0.64, 0.65, 0.66, 0.67, 0.68, 0.69, 0.7 ],\n",
       "       [0.71, 0.72, 0.73, 0.74, 0.75, 0.76, 0.77, 0.78, 0.79, 0.8 ],\n",
       "       [0.81, 0.82, 0.83, 0.84, 0.85, 0.86, 0.87, 0.88, 0.89, 0.9 ],\n",
       "       [0.91, 0.92, 0.93, 0.94, 0.95, 0.96, 0.97, 0.98, 0.99, 1.  ]])"
      ]
     },
     "execution_count": 8,
     "metadata": {},
     "output_type": "execute_result"
    }
   ],
   "source": [
    "# Returning the exact same result as above\n",
    "np.linspace(0.01,1, 100).reshape(10,10)"
   ]
  },
  {
   "cell_type": "markdown",
   "metadata": {},
   "source": [
    "## 7. Create an array of 20 linearly spaced points between 0 and 1"
   ]
  },
  {
   "cell_type": "code",
   "execution_count": 9,
   "metadata": {
    "execution": {
     "iopub.execute_input": "2023-04-27T13:41:05.047984Z",
     "iopub.status.busy": "2023-04-27T13:41:05.047551Z",
     "iopub.status.idle": "2023-04-27T13:41:05.06117Z",
     "shell.execute_reply": "2023-04-27T13:41:05.059517Z",
     "shell.execute_reply.started": "2023-04-27T13:41:05.047947Z"
    }
   },
   "outputs": [
    {
     "data": {
      "text/plain": [
       "array([0.        , 0.05263158, 0.10526316, 0.15789474, 0.21052632,\n",
       "       0.26315789, 0.31578947, 0.36842105, 0.42105263, 0.47368421,\n",
       "       0.52631579, 0.57894737, 0.63157895, 0.68421053, 0.73684211,\n",
       "       0.78947368, 0.84210526, 0.89473684, 0.94736842, 1.        ])"
      ]
     },
     "execution_count": 9,
     "metadata": {},
     "output_type": "execute_result"
    }
   ],
   "source": [
    "np.linspace(0,1, 20)"
   ]
  },
  {
   "cell_type": "markdown",
   "metadata": {},
   "source": [
    "# Indexing and Slicing"
   ]
  },
  {
   "cell_type": "code",
   "execution_count": 10,
   "metadata": {},
   "outputs": [
    {
     "name": "stdout",
     "output_type": "stream",
     "text": [
      "[[ 1  2  3  4  5]\n",
      " [ 6  7  8  9 10]\n",
      " [11 12 13 14 15]\n",
      " [16 17 18 19 20]\n",
      " [21 22 23 24 25]]\n"
     ]
    }
   ],
   "source": [
    "## Use this 2-Dimensional Array for this exercises \n",
    "arr_2_d = np.arange(1,26).reshape(5,5)\n",
    "print(arr_2_d)"
   ]
  },
  {
   "cell_type": "markdown",
   "metadata": {},
   "source": [
    "## 8. Grab element 20  of the arr_2_d array"
   ]
  },
  {
   "cell_type": "code",
   "execution_count": 11,
   "metadata": {},
   "outputs": [
    {
     "data": {
      "text/plain": [
       "20"
      ]
     },
     "execution_count": 11,
     "metadata": {},
     "output_type": "execute_result"
    }
   ],
   "source": [
    "# That is to say:4th row and 5th column\n",
    "arr_2_d[3,4]"
   ]
  },
  {
   "cell_type": "markdown",
   "metadata": {},
   "source": [
    "## 9. Grab items 2, 7, 12 of the arr_2_d array"
   ]
  },
  {
   "cell_type": "code",
   "execution_count": 12,
   "metadata": {},
   "outputs": [
    {
     "data": {
      "text/plain": [
       "array([[ 2],\n",
       "       [ 7],\n",
       "       [12]])"
      ]
     },
     "execution_count": 12,
     "metadata": {},
     "output_type": "execute_result"
    }
   ],
   "source": [
    "arr_2_d[:3,1:2]\n",
    "\n",
    "# That is to say:\n",
    "#\n",
    "# for row: **Grab all from the** begining,\n",
    "#          **up to the** forth row (but not including),\n",
    "#          it rescues 3 rows in a row,\n",
    "#\n",
    "# for column: **and all from the** second \n",
    "#             **up to the** 3ª Column (bni).\n",
    "#             It rescues just one column, the second one:)"
   ]
  },
  {
   "cell_type": "markdown",
   "metadata": {},
   "source": [
    "## 10. Grab the last row of the arr_2_d array"
   ]
  },
  {
   "cell_type": "code",
   "execution_count": 13,
   "metadata": {},
   "outputs": [
    {
     "data": {
      "text/plain": [
       "array([[ 2],\n",
       "       [ 7],\n",
       "       [12]])"
      ]
     },
     "execution_count": 13,
     "metadata": {},
     "output_type": "execute_result"
    }
   ],
   "source": [
    "arr_2_d[:3,1:2]\n",
    "\n",
    "# That is to say:\n",
    "#\n",
    "# for row: **Grab all from the** begining,\n",
    "#          **up to the** forth row (but not including),\n",
    "#          it rescues 3 rows in a row,\n",
    "#\n",
    "# for column: **and all from the** second \n",
    "#             **up to the** 3ª Column (bni).\n",
    "#             It rescues just one column, the second one:)"
   ]
  },
  {
   "cell_type": "markdown",
   "metadata": {},
   "source": [
    "## 11. Get the sum of all the values, column values and row values in arr_2_d array"
   ]
  },
  {
   "cell_type": "code",
   "execution_count": 14,
   "metadata": {},
   "outputs": [
    {
     "data": {
      "text/plain": [
       "325"
      ]
     },
     "execution_count": 14,
     "metadata": {},
     "output_type": "execute_result"
    }
   ],
   "source": [
    "# Using NumPy and pass array as parameter\n",
    "np.sum(arr_2_d)\n",
    "\n",
    "# OR\n",
    "# Use the method of the object array itself directly\n",
    "# arr_2_d.sum()"
   ]
  },
  {
   "cell_type": "code",
   "execution_count": 15,
   "metadata": {},
   "outputs": [
    {
     "data": {
      "text/plain": [
       "array([ 15,  40,  65,  90, 115])"
      ]
     },
     "execution_count": 15,
     "metadata": {},
     "output_type": "execute_result"
    }
   ],
   "source": [
    "np.sum(arr_2_d, axis=0)\n",
    "\n",
    "# axis=0 -> row -> so the result is placed in a row\n",
    "# (then it is a columns' sum)\n",
    "\n",
    "# axis=1 -> columns -> so the result is placed in a column \n",
    "# (then it is a row's sum:)\n",
    "\n",
    "np.sum(arr_2_d, axis=1)\n",
    "\n",
    "# axis=0 -> row -> so the result is placed in a row\n",
    "# (then it is a columns' sum)\n",
    "\n",
    "# axis=1 -> columns -> so the result is placed in a column \n",
    "# (then it is a row's sum:)"
   ]
  },
  {
   "cell_type": "markdown",
   "metadata": {},
   "source": [
    "## 12. Get the standard diviation of the values in arr_2_d array"
   ]
  },
  {
   "cell_type": "code",
   "execution_count": 16,
   "metadata": {},
   "outputs": [
    {
     "data": {
      "text/plain": [
       "7.211102550927978"
      ]
     },
     "execution_count": 16,
     "metadata": {},
     "output_type": "execute_result"
    }
   ],
   "source": [
    "np.std(arr_2_d)\n",
    "\n",
    "# OR\n",
    "# arr_2_d.std()"
   ]
  },
  {
   "cell_type": "markdown",
   "metadata": {},
   "source": [
    "## 13. "
   ]
  },
  {
   "cell_type": "markdown",
   "metadata": {},
   "source": [
    "## 8. Declare a 8x8 matrix and fill it with a checkerboard (or chess) pattern."
   ]
  },
  {
   "cell_type": "code",
   "execution_count": 17,
   "metadata": {
    "execution": {
     "iopub.execute_input": "2023-04-27T13:41:05.063594Z",
     "iopub.status.busy": "2023-04-27T13:41:05.063118Z",
     "iopub.status.idle": "2023-04-27T13:41:05.078438Z",
     "shell.execute_reply": "2023-04-27T13:41:05.07652Z",
     "shell.execute_reply.started": "2023-04-27T13:41:05.063558Z"
    }
   },
   "outputs": [
    {
     "name": "stdout",
     "output_type": "stream",
     "text": [
      "[[1 0 1 0 1 0 1 0]\n",
      " [0 1 0 1 0 1 0 1]\n",
      " [1 0 1 0 1 0 1 0]\n",
      " [0 1 0 1 0 1 0 1]\n",
      " [1 0 1 0 1 0 1 0]\n",
      " [0 1 0 1 0 1 0 1]\n",
      " [1 0 1 0 1 0 1 0]\n",
      " [0 1 0 1 0 1 0 1]]\n"
     ]
    }
   ],
   "source": [
    "data = np.zeros((8,8), dtype=int)\n",
    "\n",
    "for i in range(8):\n",
    "    for j in range(8):\n",
    "        if (i % 2) == 0:\n",
    "            if (j % 2) ==0:\n",
    "                data[i,j] = 1\n",
    "        else:\n",
    "            if (j % 2):\n",
    "                data[i,j] = 1\n",
    "print(data)"
   ]
  },
  {
   "cell_type": "markdown",
   "metadata": {},
   "source": [
    "Declare a 10x10 array with random values and find the minimum and maximum values."
   ]
  },
  {
   "cell_type": "code",
   "execution_count": 18,
   "metadata": {
    "execution": {
     "iopub.execute_input": "2023-04-27T13:41:05.081804Z",
     "iopub.status.busy": "2023-04-27T13:41:05.081108Z",
     "iopub.status.idle": "2023-04-27T13:41:05.093111Z",
     "shell.execute_reply": "2023-04-27T13:41:05.091194Z",
     "shell.execute_reply.started": "2023-04-27T13:41:05.081761Z"
    }
   },
   "outputs": [
    {
     "name": "stdout",
     "output_type": "stream",
     "text": [
      "[[3 4 1 2 1 2 4 3 1 1]\n",
      " [2 4 1 2 3 2 4 2 1 3]\n",
      " [1 1 3 2 1 1 2 3 4 3]\n",
      " [1 3 4 2 2 3 1 3 4 2]\n",
      " [1 4 2 3 2 1 2 2 2 2]\n",
      " [1 1 2 2 2 4 2 1 1 3]\n",
      " [4 2 3 4 3 1 3 2 4 2]\n",
      " [4 1 1 4 1 3 2 3 1 1]\n",
      " [3 3 3 3 3 2 1 4 1 1]\n",
      " [4 4 3 3 3 2 4 2 3 2]]\n",
      "\n",
      "Min: 1\n",
      "Max: 4\n"
     ]
    }
   ],
   "source": [
    "data = np.random.randint(1, 5, size=(10, 10))\n",
    "print(data)\n",
    "print()\n",
    "print('Min:', np.min(data))\n",
    "print('Max:', np.max(data))"
   ]
  },
  {
   "cell_type": "markdown",
   "metadata": {},
   "source": [
    "Create a random 10x2 matrix. Considering each pair represents an (x,y) co-ordinate in 2-D, obtain a matrix which contains (r,theta) in polar co-ordinate system."
   ]
  },
  {
   "cell_type": "code",
   "execution_count": 19,
   "metadata": {
    "execution": {
     "iopub.execute_input": "2023-04-27T13:41:05.096201Z",
     "iopub.status.busy": "2023-04-27T13:41:05.095159Z",
     "iopub.status.idle": "2023-04-27T13:41:05.106471Z",
     "shell.execute_reply": "2023-04-27T13:41:05.105281Z",
     "shell.execute_reply.started": "2023-04-27T13:41:05.096154Z"
    }
   },
   "outputs": [
    {
     "name": "stdout",
     "output_type": "stream",
     "text": [
      "Original Matrix (x, y):\n",
      " [[0.7751951  0.16623118]\n",
      " [0.48789874 0.78468858]\n",
      " [0.02976612 0.6907746 ]\n",
      " [0.94799828 0.01339176]\n",
      " [0.30719248 0.47785675]\n",
      " [0.53281    0.01089185]\n",
      " [0.46051034 0.57367985]\n",
      " [0.2751795  0.17027494]\n",
      " [0.88114089 0.62775975]\n",
      " [0.62443228 0.79711179]]\n",
      "\n",
      "Matrix in Polar Coordinates (r, theta):\n",
      " [[0.79281791 0.21123879]\n",
      " [0.92400289 1.01452039]\n",
      " [0.69141563 1.52773204]\n",
      " [0.94809286 0.01412542]\n",
      " [0.56807948 0.99946055]\n",
      " [0.53292132 0.02043943]\n",
      " [0.73564825 0.89439263]\n",
      " [0.32360054 0.55411235]\n",
      " [1.08189258 0.61902606]\n",
      " [1.01257241 0.90627912]]\n"
     ]
    }
   ],
   "source": [
    "import numpy as np\n",
    "\n",
    "# Create a random 10x2 matrix\n",
    "xy = np.random.rand(10, 2)\n",
    "\n",
    "# Convert to polar coordinates\n",
    "r = np.hypot(xy[:, 0], xy[:, 1])\n",
    "theta = np.arctan2(xy[:, 1], xy[:, 0])\n",
    "\n",
    "# Combine r and theta into a 10x2 matrix\n",
    "polar = np.column_stack((r, theta))\n",
    "\n",
    "print(\"Original Matrix (x, y):\\n\", xy)\n",
    "print(\"\\nMatrix in Polar Coordinates (r, theta):\\n\", polar)"
   ]
  },
  {
   "cell_type": "markdown",
   "metadata": {},
   "source": [
    "Multiply a 5x3 matrix by a 3x2 matrix (real matrix product)"
   ]
  },
  {
   "cell_type": "code",
   "execution_count": 20,
   "metadata": {
    "execution": {
     "iopub.execute_input": "2023-04-27T13:41:05.108646Z",
     "iopub.status.busy": "2023-04-27T13:41:05.108239Z",
     "iopub.status.idle": "2023-04-27T13:41:05.120725Z",
     "shell.execute_reply": "2023-04-27T13:41:05.119229Z",
     "shell.execute_reply.started": "2023-04-27T13:41:05.108601Z"
    }
   },
   "outputs": [
    {
     "name": "stdout",
     "output_type": "stream",
     "text": [
      "[[1.25394696 0.90449458]\n",
      " [1.12579597 0.80082805]\n",
      " [2.28971335 1.66005607]\n",
      " [0.80907053 0.38277488]\n",
      " [1.31685872 0.85495512]]\n"
     ]
    }
   ],
   "source": [
    "x = np.random.rand(5,3)\n",
    "y = np.random.rand(3,2)\n",
    "z = x@y\n",
    "print(z)"
   ]
  },
  {
   "cell_type": "markdown",
   "metadata": {},
   "source": [
    "Numpy use a powerful idea called broadcasting. The best thing is that it is also simple to use. Example, we will execute the following in the cell below.\n",
    "```\n",
    "x = np.arange(4)\n",
    "print(x)\n",
    "y = x + 3\n",
    "print(y)\n",
    "```\n",
    "Did you notice how 3 got added to every element of x! This is refered to as broadcasting. The concept extends when you wish to add a vector to every row (or column) of a matrix."
   ]
  },
  {
   "cell_type": "code",
   "execution_count": 21,
   "metadata": {
    "execution": {
     "iopub.execute_input": "2023-04-27T13:41:05.123621Z",
     "iopub.status.busy": "2023-04-27T13:41:05.122605Z",
     "iopub.status.idle": "2023-04-27T13:41:05.136708Z",
     "shell.execute_reply": "2023-04-27T13:41:05.135138Z",
     "shell.execute_reply.started": "2023-04-27T13:41:05.123562Z"
    }
   },
   "outputs": [
    {
     "name": "stdout",
     "output_type": "stream",
     "text": [
      "[0 1 2 3]\n",
      "[3 4 5 6]\n"
     ]
    }
   ],
   "source": [
    "x = np.arange(4)\n",
    "print(x)\n",
    "y = x + 3\n",
    "print(y)"
   ]
  },
  {
   "cell_type": "markdown",
   "metadata": {},
   "source": [
    "Can we demonstrate a computational time benefit of broadcasting? For this we will need to measure time. No worries, let's welcome the timeit package."
   ]
  },
  {
   "cell_type": "code",
   "execution_count": 22,
   "metadata": {
    "execution": {
     "iopub.execute_input": "2023-04-27T13:41:05.14043Z",
     "iopub.status.busy": "2023-04-27T13:41:05.13986Z",
     "iopub.status.idle": "2023-04-27T13:41:05.150058Z",
     "shell.execute_reply": "2023-04-27T13:41:05.148902Z",
     "shell.execute_reply.started": "2023-04-27T13:41:05.140354Z"
    }
   },
   "outputs": [
    {
     "name": "stdout",
     "output_type": "stream",
     "text": [
      "Time taken: 2.2569999987354094e-07\n"
     ]
    }
   ],
   "source": [
    "# importing the required module\n",
    "import timeit\n",
    "\n",
    "# code snippet to be executed only once\n",
    "test_setup = \"import numpy as np\"\n",
    "\n",
    "# code snippet to be executed only once\n",
    "test_code_1 = '''\n",
    "def example_function():\n",
    "    return np.arange(1000)\n",
    "'''\n",
    "num_runs = 1000\n",
    "time_elapsed = timeit.timeit(setup=test_setup, stmt = test_code_1, number=num_runs)\n",
    "print('Time taken: ' + str(time_elapsed/num_runs))"
   ]
  },
  {
   "cell_type": "markdown",
   "metadata": {},
   "source": [
    "A bottlenecks in code is loops, this holds especially for python code. Compared to languages like C/C++ , Python loops are relatively slower. One reason for this is the dynamically typed nature of Python.\n",
    "\n",
    "Python interpreter first goes line-by-line through the code, compiles the code into bytecode, which is then executed to run the program. Let's consider the code contains a section where it has to loop over a list. Being dynamically typed, Python has no idea what type of objects are present in the list (whether it's an integer, a string or a float). Further, this information is basically stored in every object itself, and Python can not know this in advance before actually going through the list. Hence, at each iteration python has to perform a bunch of checks every iteration like determining the type of variable, resolving it's scope, checking for any invalid operations etc.\n",
    "\n",
    "Contrasting this with C, arrays are allowed to be consisting of only one data type, which the compiler knows well ahead of time. This opens up possibility of many optimizations which are not possible in Python. For this reason, loops in python are often much slower than in C, and nested loops is where things can really get slow.\n",
    "\n",
    "In the below cell, define two random vectors x and y, each of size (1000x1). Do an elementwise multiplication of these vectors to get a new vector z. Try two approaches for this: (a) writing a function which uses a loop, (b) writing a function which the \"star\" numpy operator. Print the time for approach (a) and (b). "
   ]
  },
  {
   "cell_type": "code",
   "execution_count": 23,
   "metadata": {
    "execution": {
     "iopub.execute_input": "2023-04-27T13:41:05.1516Z",
     "iopub.status.busy": "2023-04-27T13:41:05.151212Z",
     "iopub.status.idle": "2023-04-27T13:41:05.166863Z",
     "shell.execute_reply": "2023-04-27T13:41:05.165774Z",
     "shell.execute_reply.started": "2023-04-27T13:41:05.151564Z"
    }
   },
   "outputs": [
    {
     "name": "stdout",
     "output_type": "stream",
     "text": [
      "Method 1 (loop): 0.009966850280761719 seconds\n",
      "Method 2 (star): 0.0 seconds\n",
      "Results match\n"
     ]
    }
   ],
   "source": [
    "import numpy as np\n",
    "import time\n",
    "\n",
    "# Define the vectors x and y\n",
    "x = np.random.rand(1000, 1)\n",
    "y = np.random.rand(1000, 1)\n",
    "\n",
    "# Method 1: Elementwise multiplication using a loop\n",
    "def elementwise_mult_loop(x, y):\n",
    "    z = np.zeros((1000, 1))\n",
    "    for i in range(1000):\n",
    "        z[i] = x[i] * y[i]\n",
    "    return z\n",
    "\n",
    "start_time = time.time()\n",
    "z1 = elementwise_mult_loop(x, y)\n",
    "end_time = time.time()\n",
    "print(\"Method 1 (loop):\", end_time - start_time, \"seconds\")\n",
    "\n",
    "# Method 2: Elementwise multiplication using the \"star\" operator\n",
    "def elementwise_mult_star(x, y):\n",
    "    z = x * y\n",
    "    return z\n",
    "\n",
    "start_time = time.time()\n",
    "z2 = elementwise_mult_star(x, y)\n",
    "end_time = time.time()\n",
    "print(\"Method 2 (star):\", end_time - start_time, \"seconds\")\n",
    "\n",
    "# Verify that the two methods produce the same result. If results don't match, it will through an error\n",
    "try:\n",
    "    assert np.allclose(z1, z2)\n",
    "    print('Results match')\n",
    "except:\n",
    "    print('Results don\\'t match!')"
   ]
  },
  {
   "cell_type": "markdown",
   "metadata": {},
   "source": [
    "Create a 2-D grid between (-10,10) in x-axis and (-10,10) in y-axis, with step size of .01. Generate a 2-D gaussian function on this grid, with mean = (0,0), and co-variance being an identity matrix.\n",
    "\n",
    "Plot the 2-D Gaussian using plot3D() function."
   ]
  },
  {
   "cell_type": "code",
   "execution_count": 24,
   "metadata": {
    "execution": {
     "iopub.execute_input": "2023-04-27T13:41:05.168676Z",
     "iopub.status.busy": "2023-04-27T13:41:05.168276Z",
     "iopub.status.idle": "2023-04-27T13:41:41.030071Z",
     "shell.execute_reply": "2023-04-27T13:41:41.028722Z",
     "shell.execute_reply.started": "2023-04-27T13:41:05.16864Z"
    }
   },
   "outputs": [
    {
     "data": {
      "image/png": "[encoded data removed]",
      "text/plain": [
       "<Figure size 432x288 with 1 Axes>"
      ]
     },
     "metadata": {
      "needs_background": "light"
     },
     "output_type": "display_data"
    }
   ],
   "source": [
    "import matplotlib.pyplot as plt\n",
    "from mpl_toolkits.mplot3d import Axes3D\n",
    "\n",
    "# Define the range and step size of the grid\n",
    "x = np.arange(-10, 10, 0.01)\n",
    "y = np.arange(-10, 10, 0.01)\n",
    "\n",
    "# Define the mean and covariance of the 2D Gaussian\n",
    "mean = [0, 0]\n",
    "cov = [[1, 0], [0, 1]]\n",
    "\n",
    "# Create a 2D Gaussian function\n",
    "def gaussian(x, y):\n",
    "    '''\n",
    "    implements the 2-D Gaussian function\n",
    "    returns the values\n",
    "    '''\n",
    "\n",
    "    data = np.zeros((len(x), len(y)), dtype=float)\n",
    "\n",
    "    mu = np.array(mean)\n",
    "    sigma = np.array(cov)\n",
    "    det = np.linalg.det(sigma)\n",
    "    inv = np.linalg.inv(sigma)\n",
    "\n",
    "    for i in range(len(x)):\n",
    "        for j in range(len(y)):\n",
    "            z = np.array([x[i], y[j]])\n",
    "            data[i,j] = np.exp(-0.5 * (z - mu) @ inv @ (z-mu).T)\n",
    "\n",
    "    return data / (2.0 * np.pi * np.sqrt(det))\n",
    "\n",
    "# Evaluate the 2D Gaussian on the grid\n",
    "Z = gaussian(x, y)\n",
    "\n",
    "# create the 2-D grid for plotting\n",
    "X, Y = np.meshgrid(x, y)\n",
    "\n",
    "# Create a 3D plot of the 2D Gaussian\n",
    "fig = plt.figure()\n",
    "ax = fig.add_subplot(111, projection='3d')\n",
    "ax.plot_surface(X, Y, Z)\n",
    "ax.set_xlabel('X')\n",
    "ax.set_ylabel('Y')\n",
    "ax.set_zlabel('Z')\n",
    "plt.show()\n"
   ]
  },
  {
   "cell_type": "code",
   "execution_count": null,
   "metadata": {},
   "outputs": [],
   "source": []
  }
 ],
 "metadata": {
  "kernelspec": {
   "display_name": "Python 3 (ipykernel)",
   "language": "python",
   "name": "python3"
  },
  "language_info": {
   "codemirror_mode": {
    "name": "ipython",
    "version": 3
   },
   "file_extension": ".py",
   "mimetype": "text/x-python",
   "name": "python",
   "nbconvert_exporter": "python",
   "pygments_lexer": "ipython3",
   "version": "3.9.6"
  }
 },
 "nbformat": 4,
 "nbformat_minor": 4
}
