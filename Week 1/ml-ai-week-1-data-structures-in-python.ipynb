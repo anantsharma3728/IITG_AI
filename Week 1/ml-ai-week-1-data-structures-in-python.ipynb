{
 "cells": [
  {
   "cell_type": "markdown",
   "metadata": {
    "id": "82F85eDODiFi"
   },
   "source": [
    "<h1 align = 'center' style = \"font-size:60px; font-family:verdana ; font-weight : normal; background-color: #f6f5f5 ; color : #fe346e; text-align: center; border-radius: 100px 100px; padding: 10px\"> ML.AI Week 1 Data Structures in Python Tutorial</h1>\n",
    "\n",
    "<div class=\"alert alert-block alert-info\" style=\"font-size:14px; font-family:verdana; line-height: 1.7em; background-color:#5642C5; color:white;\">\n",
    "📌 &nbsp; About ML.AI<br>\n",
    " MachineLearning.AI is a 7 week course, and it will take you from the basics of Python to the detailed knowledge about Data Science and Machine Learning as well as an Introduction to Neural Networks and Deep Learning. \n",
    "<br><br>\n",
    "The course offers a comprehensive blend of high-quality resources sourced from the internet, including engaging videos, informative blogs, weekly assignments, and culminating in an exciting hackathon to assess your knowledge and skills. By the end of 7 weeks, you will have a solid understanding of the key concepts and techniques of Machine Learning as well as an appreciation of their potential impact on our society.\n",
    "<br><br>\n",
    "    \n",
    "📌 &nbsp; Structure of the Course<br><br>\n",
    "Week 1:  Introduction To Python & Python Libraries<br>\n",
    "Week 2: Introduction to ML and Basic ML Algorithms<br>\n",
    "Week 3: Advanced ML Algorithms<br>\n",
    "Week 4: Unsupervised Learning Hackathon<br>\n",
    "Week 5: Ensemble Learning and Dealing with Real World Data<br>\n",
    "Week 6: Introduction to Neural Networks and Deep Learning<br>\n",
    "Week 7: Final Hackathon<br>\n",
    "<br>\n",
    "📌 &nbsp; What Next?<br>Advanced ML.AI, a guiding resource for Deep Learning Specialization\n",
    "</div>"
   ]
  },
  {
   "cell_type": "markdown",
   "metadata": {},
   "source": [
    "----\n",
    "\n",
    "<div style=\"font-size:14px; font-family:verdana;\"><span style = 'color:#fe346e'>Data Structures</span> are a way of organizing data so that it can be accessed more efficiently depending upon the situation. Data Structures are fundamentals of any programming language around which a program is built. Python helps to learn the fundamental of these data structures in a simpler way as compared to other programming languages.\n",
    "<br><br>\n",
    "There are broadly <span style = 'color:#fe346e'>two types of Data Structures in Python</span>:\n",
    "    <ul>\n",
    "        <li>In-Built</li>\n",
    "        <li>User-Defined</li>\n",
    "    </ul>\n",
    "Here we would be looking at the in-built data structures which enable storing and accessing data optimally.\n",
    "</div><br>  \n",
    "\n",
    "<div style=\"font-size:14px; font-family:verdana;\">After completing the following notebook, you will have a strong understanding and be comfortable working with <span style=\"color:#fe346e;\">Lists, Sets, Tuples and Dictionaries.</span> You will have learned the fundamental concepts of each data structure, including their syntax, properties, and methods.\n",
    ":<br><br>\n",
    "\n",
    "<ol>\n",
    "    <li>In regards to <span style=\"color:#fe346e;\">Lists</span>, you will have learned how to create and modify them, as well as how to access their elements using indexing and slicing. You will also be able to perform operations such as sorting and reversing, and understand the difference between shallow and deep copying.</li>\n",
    "    <li>For <span style=\"color:#fe346e;\">Tuples</span>, you will have learned how to create and modify them, as well as how to access their elements using indexing and slicing. You will also understand the difference between tuples and lists, and the concept of immutable objects.</li>\n",
    "    <li>For <span style=\"color:#fe346e;\">Sets</span>, you will have learned how to create and modify them, as well as how to perform set operations such as union, intersection, and difference. You will also understand the concept of mutable and immutable sets and how to iterate through them.</li>\n",
    "    <li>Finally, for <span style=\"color:#fe346e;\">Dictionaries</span>, you will have learned how to create and modify dictionaries, how to access their keys and values, and how to perform operations such as merging and updating. You will also understand how to use dictionaries to efficiently store and retrieve data.</li>\n",
    "</ol>\n",
    "    \n",
    "Overall, by completing this notebook, you will have gained a strong foundation in these fundamental data structures and be able to confidently apply them in your Python programming.\n",
    "\n",
    "</div>\n",
    "\n",
    "----\n",
    "    \n",
    "<!-- <br><br>\n",
    "<blockquote><p style=\"font-size:16px; color:#159364; font-family:verdana;\">💬 Finally, I would like to take this opportunity to remind everyone to be <code>kind</code>, <code>just</code> and <code>mindful</code>😃</p></blockquote> -->  "
   ]
  },
  {
   "cell_type": "markdown",
   "metadata": {},
   "source": [
    "<div class=\"alert alert-block alert-info\" style=\"font-size:18px; font-family:verdana; line-height: 1.7em; background-color:#5642C5; color:white;\">\n",
    "    📌 &nbsp; Feel free to create your own fork and play around with the code.  Click <b>\"Copy & Edit\"</b> in the top right to get your own editable version of this notebook</div>"
   ]
  },
  {
   "cell_type": "markdown",
   "metadata": {
    "id": "KsSzNVBkDiFm"
   },
   "source": [
    "<h1 id = 'lists' style = \"font-size:30px; font-family:verdana ; font-weight : normal; background-color: #f6f5f5 ; color : #fe346e; text-align: center; border-radius: 100px 100px; padding: 10px\">Lists\n",
    "<a class=\"anchor-link\" href=\"https://www.kaggle.com/code/varunnagpalspyz/ml-ai-week-1-data-structures-in-python/notebook#lists\">¶</a>\n",
    "</h1>"
   ]
  },
  {
   "cell_type": "markdown",
   "metadata": {
    "id": "UpFhj1WvDiFk"
   },
   "source": [
    "Lists are the most commonly used data structure. Think of it as a sequence of \n",
    "\n",
    "*   List item\n",
    "*   List item\n",
    "\n",
    "Data that is enclosed in square brackets and data are separated by a comma. Each of these data can be accessed by calling it's index value.\n",
    "\n",
    "Lists are declared by just equating a variable to '[ ]' or list.  Note that, lists are mutable - that is, the value of elements of a list can be altered."
   ]
  },
  {
   "cell_type": "markdown",
   "metadata": {},
   "source": [
    "<h2> Basics</h2>"
   ]
  },
  {
   "cell_type": "code",
   "execution_count": 1,
   "metadata": {
    "execution": {
     "iopub.execute_input": "2023-04-27T13:41:11.003236Z",
     "iopub.status.busy": "2023-04-27T13:41:11.002214Z",
     "iopub.status.idle": "2023-04-27T13:41:11.028733Z",
     "shell.execute_reply": "2023-04-27T13:41:11.027561Z",
     "shell.execute_reply.started": "2023-04-27T13:41:11.003191Z"
    },
    "id": "ryljGeDhDiFp"
   },
   "outputs": [],
   "source": [
    "i_am_a_list = []"
   ]
  },
  {
   "cell_type": "code",
   "execution_count": 2,
   "metadata": {
    "execution": {
     "iopub.execute_input": "2023-04-27T13:41:11.031328Z",
     "iopub.status.busy": "2023-04-27T13:41:11.03082Z",
     "iopub.status.idle": "2023-04-27T13:41:11.038043Z",
     "shell.execute_reply": "2023-04-27T13:41:11.036846Z",
     "shell.execute_reply.started": "2023-04-27T13:41:11.031284Z"
    },
    "id": "vNPaNI_JDiFs"
   },
   "outputs": [
    {
     "name": "stdout",
     "output_type": "stream",
     "text": [
      "<class 'list'>\n"
     ]
    }
   ],
   "source": [
    "print(type(i_am_a_list))"
   ]
  },
  {
   "cell_type": "markdown",
   "metadata": {
    "id": "HLF7yz2cDiFu"
   },
   "source": [
    "<div> \n",
    "One can directly assign the sequence of data to a list x as shown.\n",
    "</div>"
   ]
  },
  {
   "cell_type": "code",
   "execution_count": 3,
   "metadata": {
    "execution": {
     "iopub.execute_input": "2023-04-27T13:41:11.040491Z",
     "iopub.status.busy": "2023-04-27T13:41:11.040096Z",
     "iopub.status.idle": "2023-04-27T13:41:11.045637Z",
     "shell.execute_reply": "2023-04-27T13:41:11.044626Z",
     "shell.execute_reply.started": "2023-04-27T13:41:11.040417Z"
    },
    "id": "DOMZZ15yDiFw"
   },
   "outputs": [],
   "source": [
    "fruits = ['apple', 'orange']"
   ]
  },
  {
   "cell_type": "markdown",
   "metadata": {},
   "source": [
    "<div>A list can have elements which come from different basic types.</div>"
   ]
  },
  {
   "cell_type": "code",
   "execution_count": 4,
   "metadata": {
    "execution": {
     "iopub.execute_input": "2023-04-27T13:41:11.050438Z",
     "iopub.status.busy": "2023-04-27T13:41:11.049856Z",
     "iopub.status.idle": "2023-04-27T13:41:11.055416Z",
     "shell.execute_reply": "2023-04-27T13:41:11.054188Z",
     "shell.execute_reply.started": "2023-04-27T13:41:11.050405Z"
    }
   },
   "outputs": [],
   "source": [
    " weird = [6, 99, 77, 'Apple']"
   ]
  },
  {
   "cell_type": "markdown",
   "metadata": {
    "id": "7NOnk5IxDiFy"
   },
   "source": [
    "<h2>Indexing</h2>"
   ]
  },
  {
   "cell_type": "markdown",
   "metadata": {
    "id": "WEV-R9fGDiF0"
   },
   "source": [
    "<div>In python, Indexing starts from 0. Thus now the list fruits, which has two elements will have apple at 0 index and orange at 1 index.</div>"
   ]
  },
  {
   "cell_type": "code",
   "execution_count": 5,
   "metadata": {
    "execution": {
     "iopub.execute_input": "2023-04-27T13:41:11.069541Z",
     "iopub.status.busy": "2023-04-27T13:41:11.069212Z",
     "iopub.status.idle": "2023-04-27T13:41:11.076136Z",
     "shell.execute_reply": "2023-04-27T13:41:11.07533Z",
     "shell.execute_reply.started": "2023-04-27T13:41:11.069508Z"
    },
    "id": "PZXR9ZKlDiF1"
   },
   "outputs": [
    {
     "data": {
      "text/plain": [
       "'orange'"
      ]
     },
     "execution_count": 5,
     "metadata": {},
     "output_type": "execute_result"
    }
   ],
   "source": [
    "fruits[1]"
   ]
  },
  {
   "cell_type": "markdown",
   "metadata": {
    "id": "FPjvECWqDiF3"
   },
   "source": [
    "<div>Indexing can also be done in reverse order. That is the last element can be accessed first. Here, indexing starts from -1. Thus index value -1 will be orange and index -2 will be apple.</div>"
   ]
  },
  {
   "cell_type": "code",
   "execution_count": 6,
   "metadata": {
    "execution": {
     "iopub.execute_input": "2023-04-27T13:41:11.084997Z",
     "iopub.status.busy": "2023-04-27T13:41:11.084254Z",
     "iopub.status.idle": "2023-04-27T13:41:11.091399Z",
     "shell.execute_reply": "2023-04-27T13:41:11.090087Z",
     "shell.execute_reply.started": "2023-04-27T13:41:11.08496Z"
    },
    "id": "mVAKnQQvDiF4"
   },
   "outputs": [
    {
     "data": {
      "text/plain": [
       "'orange'"
      ]
     },
     "execution_count": 6,
     "metadata": {},
     "output_type": "execute_result"
    }
   ],
   "source": [
    "fruits[-1]"
   ]
  },
  {
   "cell_type": "markdown",
   "metadata": {
    "id": "wSsIzpOnDiF5"
   },
   "source": [
    "<div>As you might have already guessed, fruits[0] = fruits[-2], fruits[1] = fruits[-1]. This concept can be extended towards lists with more many elements.</div>"
   ]
  },
  {
   "cell_type": "code",
   "execution_count": 7,
   "metadata": {
    "execution": {
     "iopub.execute_input": "2023-04-27T13:41:11.102305Z",
     "iopub.status.busy": "2023-04-27T13:41:11.101538Z",
     "iopub.status.idle": "2023-04-27T13:41:11.107698Z",
     "shell.execute_reply": "2023-04-27T13:41:11.106571Z",
     "shell.execute_reply.started": "2023-04-27T13:41:11.102261Z"
    },
    "id": "DzGkWDu-DiF6"
   },
   "outputs": [],
   "source": [
    "veggies = ['carrot','potato']"
   ]
  },
  {
   "cell_type": "markdown",
   "metadata": {
    "id": "wBvTN3GyDiF7"
   },
   "source": [
    "<div>Here we have declared two lists x and y each containing its own data. Now, these two lists can again be put into another list say 'plants' which will have it's data as two lists. This list inside a list is called as nested lists and is how an array would be declared which we will see later.</div>"
   ]
  },
  {
   "cell_type": "code",
   "execution_count": 8,
   "metadata": {
    "execution": {
     "iopub.execute_input": "2023-04-27T13:41:11.177459Z",
     "iopub.status.busy": "2023-04-27T13:41:11.176734Z",
     "iopub.status.idle": "2023-04-27T13:41:11.18266Z",
     "shell.execute_reply": "2023-04-27T13:41:11.181698Z",
     "shell.execute_reply.started": "2023-04-27T13:41:11.177418Z"
    },
    "id": "T1dGor30DiF7"
   },
   "outputs": [
    {
     "name": "stdout",
     "output_type": "stream",
     "text": [
      "[['apple', 'orange'], ['carrot', 'potato']]\n"
     ]
    }
   ],
   "source": [
    "plants = [fruits, veggies]\n",
    "print(plants)"
   ]
  },
  {
   "cell_type": "markdown",
   "metadata": {
    "id": "FIm0WjrxDiF9"
   },
   "source": [
    "<div>Indexing in nested lists can be quite confusing if you do not understand how indexing works in python. So let us break it down and then arrive at a conclusion.\n",
    "<br><br>\n",
    "Let us access the data 'apple' in the above nested list.\n",
    "First, at index 0 there is a list ['apple','orange'] and at index 1 there is another list ['carrot','potato']. Hence plants[0] should give us the first list which contains 'apple'.</div>"
   ]
  },
  {
   "cell_type": "code",
   "execution_count": 9,
   "metadata": {
    "execution": {
     "iopub.execute_input": "2023-04-27T13:41:11.308358Z",
     "iopub.status.busy": "2023-04-27T13:41:11.307789Z",
     "iopub.status.idle": "2023-04-27T13:41:11.321703Z",
     "shell.execute_reply": "2023-04-27T13:41:11.320188Z",
     "shell.execute_reply.started": "2023-04-27T13:41:11.308287Z"
    },
    "id": "JK6iCXZmDiF-"
   },
   "outputs": [
    {
     "name": "stdout",
     "output_type": "stream",
     "text": [
      "['apple', 'orange']\n"
     ]
    }
   ],
   "source": [
    "fruit_plants = plants[0]\n",
    "print(fruit_plants)"
   ]
  },
  {
   "cell_type": "markdown",
   "metadata": {
    "id": "Oqhsv_L3DiF_"
   },
   "source": [
    "<div>Now observe that fruit_plants is not at all a nested list thus to access 'apple', fruit_plants should be indexed at 0.</div>"
   ]
  },
  {
   "cell_type": "code",
   "execution_count": 10,
   "metadata": {
    "execution": {
     "iopub.execute_input": "2023-04-27T13:41:11.343753Z",
     "iopub.status.busy": "2023-04-27T13:41:11.342775Z",
     "iopub.status.idle": "2023-04-27T13:41:11.351824Z",
     "shell.execute_reply": "2023-04-27T13:41:11.350472Z",
     "shell.execute_reply.started": "2023-04-27T13:41:11.343702Z"
    },
    "id": "34PB7E9oDiGA"
   },
   "outputs": [
    {
     "data": {
      "text/plain": [
       "'apple'"
      ]
     },
     "execution_count": 10,
     "metadata": {},
     "output_type": "execute_result"
    }
   ],
   "source": [
    "fruit_plants[0]"
   ]
  },
  {
   "cell_type": "markdown",
   "metadata": {
    "id": "UMb0HnUEDiGB"
   },
   "source": [
    "<div>Instead of doing the above, In python, you can access 'apple' by just writing the index values each time side by side.</div>"
   ]
  },
  {
   "cell_type": "code",
   "execution_count": 11,
   "metadata": {
    "execution": {
     "iopub.execute_input": "2023-04-27T13:41:11.367256Z",
     "iopub.status.busy": "2023-04-27T13:41:11.366645Z",
     "iopub.status.idle": "2023-04-27T13:41:11.373168Z",
     "shell.execute_reply": "2023-04-27T13:41:11.372204Z",
     "shell.execute_reply.started": "2023-04-27T13:41:11.367218Z"
    },
    "id": "lkrNMJ9HDiGC"
   },
   "outputs": [
    {
     "name": "stdout",
     "output_type": "stream",
     "text": [
      "[['apple', 'orange'], ['carrot', 'potato']]\n",
      "apple\n",
      "orange\n",
      "carrot\n",
      "potato\n"
     ]
    }
   ],
   "source": [
    "print(plants)\n",
    "\n",
    "print(plants[0][0])\n",
    "print(plants[0][1])\n",
    "print(plants[1][0])\n",
    "print(plants[1][1])"
   ]
  },
  {
   "cell_type": "markdown",
   "metadata": {
    "id": "aAlP3OYyDiGD"
   },
   "source": [
    "<div>If there was a list inside a list inside a list then you can access the innermost value by executing plants[ ][ ][ ].</div>"
   ]
  },
  {
   "cell_type": "markdown",
   "metadata": {
    "id": "o7WuRMyFDiGE"
   },
   "source": [
    "# <h2>Slicing</h2>"
   ]
  },
  {
   "cell_type": "markdown",
   "metadata": {
    "id": "pdIZuL4QDiGF"
   },
   "source": [
    "<div>\n",
    "Indexing was only limited to accessing a single element, Slicing on the other hand is accessing a sequence of data inside the list. In other words \"slicing\" the list.\n",
    "<br><br>\n",
    "The format for list slicing is <b>Lst[Start:Stop:Step]</b>.<br><br>\n",
    "\n",
    "If Lst is a list, then the above expression returns the portion of the list from index <b>Start (included)</b> to index <b>Stop (not included)</b>, at a step size <b>Step</b>.\n",
    "\n",
    "<ul>\n",
    "    <li>Start is the index of the list where slicing starts.</li>\n",
    "    <li>Stop is the index of the list where slicing ends.</li>\n",
    "     <li>Step allows you to select nth item within the range start to stop.</li>\n",
    "</ul>\n",
    " </div>"
   ]
  },
  {
   "cell_type": "code",
   "execution_count": 12,
   "metadata": {
    "execution": {
     "iopub.execute_input": "2023-04-27T13:41:11.392282Z",
     "iopub.status.busy": "2023-04-27T13:41:11.391594Z",
     "iopub.status.idle": "2023-04-27T13:41:11.396182Z",
     "shell.execute_reply": "2023-04-27T13:41:11.395376Z",
     "shell.execute_reply.started": "2023-04-27T13:41:11.392244Z"
    },
    "id": "OBg2wx6YDiGG"
   },
   "outputs": [],
   "source": [
    "# Defining list of first 9 lowercase alphabets\n",
    "L = ['a', 'b', 'c', 'd', 'e', 'f', 'g', 'h', 'i']"
   ]
  },
  {
   "cell_type": "code",
   "execution_count": 13,
   "metadata": {
    "execution": {
     "iopub.execute_input": "2023-04-27T13:41:11.417956Z",
     "iopub.status.busy": "2023-04-27T13:41:11.417203Z",
     "iopub.status.idle": "2023-04-27T13:41:11.423318Z",
     "shell.execute_reply": "2023-04-27T13:41:11.422401Z",
     "shell.execute_reply.started": "2023-04-27T13:41:11.417917Z"
    },
    "id": "4saoaR8XDiGH"
   },
   "outputs": [
    {
     "name": "stdout",
     "output_type": "stream",
     "text": [
      "['c', 'd', 'e', 'f', 'g']\n"
     ]
    }
   ],
   "source": [
    "# Basic Example of Slicing\n",
    "L = ['a', 'b', 'c', 'd', 'e', 'f', 'g', 'h', 'i']\n",
    "print(L[2:7])\n",
    "# Prints ['c', 'd', 'e', 'f', 'g']"
   ]
  },
  {
   "cell_type": "code",
   "execution_count": 14,
   "metadata": {
    "execution": {
     "iopub.execute_input": "2023-04-27T13:41:11.438791Z",
     "iopub.status.busy": "2023-04-27T13:41:11.438411Z",
     "iopub.status.idle": "2023-04-27T13:41:11.444578Z",
     "shell.execute_reply": "2023-04-27T13:41:11.443597Z",
     "shell.execute_reply.started": "2023-04-27T13:41:11.438757Z"
    }
   },
   "outputs": [
    {
     "name": "stdout",
     "output_type": "stream",
     "text": [
      "['c', 'd', 'e', 'f', 'g']\n"
     ]
    }
   ],
   "source": [
    "# Slicing with Negative Indices|\n",
    "L = ['a', 'b', 'c', 'd', 'e', 'f', 'g', 'h', 'i']\n",
    "print(L[-7:-2])\n",
    "# Prints ['c', 'd', 'e', 'f', 'g']"
   ]
  },
  {
   "cell_type": "code",
   "execution_count": 15,
   "metadata": {
    "execution": {
     "iopub.execute_input": "2023-04-27T13:41:11.465841Z",
     "iopub.status.busy": "2023-04-27T13:41:11.465058Z",
     "iopub.status.idle": "2023-04-27T13:41:11.472746Z",
     "shell.execute_reply": "2023-04-27T13:41:11.471689Z",
     "shell.execute_reply.started": "2023-04-27T13:41:11.465799Z"
    }
   },
   "outputs": [
    {
     "name": "stdout",
     "output_type": "stream",
     "text": [
      "['c', 'd']\n"
     ]
    }
   ],
   "source": [
    "# Slicing with a mix of positive and negative indices\n",
    "L = ['a', 'b', 'c', 'd', 'e', 'f', 'g', 'h', 'i']\n",
    "print(L[2:-5])\n",
    "# Prints ['c', 'd']"
   ]
  },
  {
   "cell_type": "markdown",
   "metadata": {},
   "source": [
    "<h3>Step Size</h3>\n",
    "\n",
    "<div>Specifying the step of the slicing using step parameter. The step parameter is optional and by default 1. You can even specify a negative step size.</div>"
   ]
  },
  {
   "cell_type": "code",
   "execution_count": 16,
   "metadata": {
    "execution": {
     "iopub.execute_input": "2023-04-27T13:41:11.486641Z",
     "iopub.status.busy": "2023-04-27T13:41:11.485637Z",
     "iopub.status.idle": "2023-04-27T13:41:11.493068Z",
     "shell.execute_reply": "2023-04-27T13:41:11.491703Z",
     "shell.execute_reply.started": "2023-04-27T13:41:11.486586Z"
    }
   },
   "outputs": [
    {
     "name": "stdout",
     "output_type": "stream",
     "text": [
      "['c', 'e', 'g']\n"
     ]
    }
   ],
   "source": [
    "# Return every 2nd item between position 2 to 7\n",
    "L = ['a', 'b', 'c', 'd', 'e', 'f', 'g', 'h', 'i']\n",
    "print(L[2:7:2])\n",
    "# Prints ['c', 'e', 'g']"
   ]
  },
  {
   "cell_type": "code",
   "execution_count": 17,
   "metadata": {
    "execution": {
     "iopub.execute_input": "2023-04-27T13:41:11.504203Z",
     "iopub.status.busy": "2023-04-27T13:41:11.5036Z",
     "iopub.status.idle": "2023-04-27T13:41:11.51019Z",
     "shell.execute_reply": "2023-04-27T13:41:11.508533Z",
     "shell.execute_reply.started": "2023-04-27T13:41:11.504163Z"
    }
   },
   "outputs": [
    {
     "name": "stdout",
     "output_type": "stream",
     "text": [
      "['g', 'e', 'c']\n"
     ]
    }
   ],
   "source": [
    "# Negative Step Size\n",
    "# Return every 2nd item between position 6 to 1\n",
    "L = ['a', 'b', 'c', 'd', 'e', 'f', 'g', 'h', 'i']\n",
    "print(L[6:1:-2])\n",
    "# Prints ['g', 'e', 'c']"
   ]
  },
  {
   "cell_type": "markdown",
   "metadata": {},
   "source": [
    "<h3>Slice at Beginning & End</h3>\n"
   ]
  },
  {
   "cell_type": "code",
   "execution_count": 18,
   "metadata": {
    "execution": {
     "iopub.execute_input": "2023-04-27T13:41:11.523701Z",
     "iopub.status.busy": "2023-04-27T13:41:11.523292Z",
     "iopub.status.idle": "2023-04-27T13:41:11.530314Z",
     "shell.execute_reply": "2023-04-27T13:41:11.528972Z",
     "shell.execute_reply.started": "2023-04-27T13:41:11.523664Z"
    }
   },
   "outputs": [
    {
     "name": "stdout",
     "output_type": "stream",
     "text": [
      "['a', 'b', 'c']\n"
     ]
    }
   ],
   "source": [
    "# Slice the first three items from the list\n",
    "L = ['a', 'b', 'c', 'd', 'e', 'f', 'g', 'h', 'i']\n",
    "print(L[:3])\n",
    "# Prints ['a', 'b', 'c']"
   ]
  },
  {
   "cell_type": "code",
   "execution_count": 19,
   "metadata": {
    "execution": {
     "iopub.execute_input": "2023-04-27T13:41:11.544608Z",
     "iopub.status.busy": "2023-04-27T13:41:11.543962Z",
     "iopub.status.idle": "2023-04-27T13:41:11.550585Z",
     "shell.execute_reply": "2023-04-27T13:41:11.549483Z",
     "shell.execute_reply.started": "2023-04-27T13:41:11.54456Z"
    }
   },
   "outputs": [
    {
     "name": "stdout",
     "output_type": "stream",
     "text": [
      "['g', 'h', 'i']\n"
     ]
    }
   ],
   "source": [
    "# Slice the last three items from the list\n",
    "L = ['a', 'b', 'c', 'd', 'e', 'f', 'g', 'h', 'i']\n",
    "print(L[6:])\n",
    "# Prints ['g', 'h', 'i']"
   ]
  },
  {
   "cell_type": "markdown",
   "metadata": {},
   "source": [
    "<h3>Reverse a List</h3>"
   ]
  },
  {
   "cell_type": "code",
   "execution_count": 20,
   "metadata": {
    "execution": {
     "iopub.execute_input": "2023-04-27T13:41:11.56891Z",
     "iopub.status.busy": "2023-04-27T13:41:11.568524Z",
     "iopub.status.idle": "2023-04-27T13:41:11.57492Z",
     "shell.execute_reply": "2023-04-27T13:41:11.573738Z",
     "shell.execute_reply.started": "2023-04-27T13:41:11.568874Z"
    }
   },
   "outputs": [
    {
     "name": "stdout",
     "output_type": "stream",
     "text": [
      "['e', 'd', 'c', 'b', 'a']\n"
     ]
    }
   ],
   "source": [
    "L = ['a', 'b', 'c', 'd', 'e']\n",
    "print(L[::-1])\n",
    "# Prints ['e', 'd', 'c', 'b', 'a']"
   ]
  },
  {
   "cell_type": "markdown",
   "metadata": {},
   "source": [
    "<h3>Modify Multiple List Values</h3>"
   ]
  },
  {
   "cell_type": "code",
   "execution_count": 21,
   "metadata": {
    "execution": {
     "iopub.execute_input": "2023-04-27T13:41:11.597495Z",
     "iopub.status.busy": "2023-04-27T13:41:11.596836Z",
     "iopub.status.idle": "2023-04-27T13:41:11.604112Z",
     "shell.execute_reply": "2023-04-27T13:41:11.602911Z",
     "shell.execute_reply.started": "2023-04-27T13:41:11.597449Z"
    }
   },
   "outputs": [
    {
     "name": "stdout",
     "output_type": "stream",
     "text": [
      "['a', 1, 2, 3, 'e']\n"
     ]
    }
   ],
   "source": [
    "# Modify multiple list items\n",
    "L = ['a', 'b', 'c', 'd', 'e']\n",
    "L[1:4] = [1, 2, 3]\n",
    "print(L)\n",
    "# Prints ['a', 1, 2, 3, 'e']"
   ]
  },
  {
   "cell_type": "code",
   "execution_count": 22,
   "metadata": {
    "execution": {
     "iopub.execute_input": "2023-04-27T13:41:11.618204Z",
     "iopub.status.busy": "2023-04-27T13:41:11.617842Z",
     "iopub.status.idle": "2023-04-27T13:41:11.624176Z",
     "shell.execute_reply": "2023-04-27T13:41:11.623046Z",
     "shell.execute_reply.started": "2023-04-27T13:41:11.618171Z"
    }
   },
   "outputs": [
    {
     "name": "stdout",
     "output_type": "stream",
     "text": [
      "['a', 1, 2, 3, 'c', 'd', 'e']\n"
     ]
    }
   ],
   "source": [
    "# Replace multiple elements in place of a single element\n",
    "L = ['a', 'b', 'c', 'd', 'e']\n",
    "L[1:2] = [1, 2, 3]\n",
    "print(L)\n",
    "# Prints ['a', 1, 2, 3, 'c', 'd', 'e']"
   ]
  },
  {
   "cell_type": "markdown",
   "metadata": {},
   "source": [
    "<h3>Inserting and Deleting Multiple List Items</h3>"
   ]
  },
  {
   "cell_type": "code",
   "execution_count": 24,
   "metadata": {
    "execution": {
     "iopub.execute_input": "2023-04-27T13:41:11.640597Z",
     "iopub.status.busy": "2023-04-27T13:41:11.640221Z",
     "iopub.status.idle": "2023-04-27T13:41:11.648027Z",
     "shell.execute_reply": "2023-04-27T13:41:11.646892Z",
     "shell.execute_reply.started": "2023-04-27T13:41:11.640561Z"
    }
   },
   "outputs": [
    {
     "name": "stdout",
     "output_type": "stream",
     "text": [
      "[1, 2, 3, 'a', 'b', 'c']\n",
      "['a', 'b', 'c', 1, 2, 3]\n",
      "['a', 1, 2, 3, 'b', 'c']\n"
     ]
    }
   ],
   "source": [
    "# Insert at the start\n",
    "L = ['a', 'b', 'c']\n",
    "L[:0] = [1, 2, 3]\n",
    "print(L)\n",
    "# Prints [1, 2, 3, 'a', 'b', 'c']\n",
    "\n",
    "# Insert at the end\n",
    "L = ['a', 'b', 'c']\n",
    "L[len(L):] = [1, 2, 3]\n",
    "print(L)\n",
    "# Prints ['a', 'b', 'c', 1, 2, 3]\n",
    "\n",
    "# Insert in the middle\n",
    "L = ['a', 'b', 'c']\n",
    "L[1:1] = [1, 2, 3]\n",
    "print(L)\n",
    "# Prints ['a', 1, 2, 3, 'b', 'c']"
   ]
  },
  {
   "cell_type": "code",
   "execution_count": 25,
   "metadata": {
    "execution": {
     "iopub.execute_input": "2023-04-27T13:41:11.664083Z",
     "iopub.status.busy": "2023-04-27T13:41:11.663702Z",
     "iopub.status.idle": "2023-04-27T13:41:11.671863Z",
     "shell.execute_reply": "2023-04-27T13:41:11.670137Z",
     "shell.execute_reply.started": "2023-04-27T13:41:11.664048Z"
    }
   },
   "outputs": [
    {
     "name": "stdout",
     "output_type": "stream",
     "text": [
      "['a']\n",
      "['a']\n"
     ]
    }
   ],
   "source": [
    "L = ['a', 'b', 'c', 'd', 'e']\n",
    "L[1:5] = []\n",
    "print(L)\n",
    "# Prints ['a']\n",
    "\n",
    "L = ['a', 'b', 'c', 'd', 'e']\n",
    "del L[1:5]\n",
    "print(L)\n",
    "# Prints ['a']"
   ]
  },
  {
   "cell_type": "code",
   "execution_count": 26,
   "metadata": {
    "execution": {
     "iopub.execute_input": "2023-04-27T13:41:11.68489Z",
     "iopub.status.busy": "2023-04-27T13:41:11.684523Z",
     "iopub.status.idle": "2023-04-27T13:41:11.69212Z",
     "shell.execute_reply": "2023-04-27T13:41:11.691125Z",
     "shell.execute_reply.started": "2023-04-27T13:41:11.684855Z"
    }
   },
   "outputs": [
    {
     "data": {
      "text/plain": [
       "[0, 1, 2, 3, 4, 5, 6, 7, 8, 9]"
      ]
     },
     "execution_count": 26,
     "metadata": {},
     "output_type": "execute_result"
    }
   ],
   "source": [
    "nums = [num for num in range(10)] # How did I do this? Answer at end of notebook\n",
    "nums"
   ]
  },
  {
   "cell_type": "markdown",
   "metadata": {
    "id": "RhRwnhRYDiGJ"
   },
   "source": [
    "<h2>Built in List Functions</h2>"
   ]
  },
  {
   "cell_type": "markdown",
   "metadata": {
    "id": "m8hhVpMpDiGJ"
   },
   "source": [
    "To find the length of the list or the number of elements in a list, **`len()`** is used."
   ]
  },
  {
   "cell_type": "code",
   "execution_count": 27,
   "metadata": {
    "execution": {
     "iopub.execute_input": "2023-04-27T13:41:11.70965Z",
     "iopub.status.busy": "2023-04-27T13:41:11.709234Z",
     "iopub.status.idle": "2023-04-27T13:41:11.717318Z",
     "shell.execute_reply": "2023-04-27T13:41:11.716054Z",
     "shell.execute_reply.started": "2023-04-27T13:41:11.709613Z"
    },
    "id": "JhfuFkB2DiGK"
   },
   "outputs": [
    {
     "data": {
      "text/plain": [
       "10"
      ]
     },
     "execution_count": 27,
     "metadata": {},
     "output_type": "execute_result"
    }
   ],
   "source": [
    "len(nums)"
   ]
  },
  {
   "cell_type": "markdown",
   "metadata": {
    "id": "ugqkAPbIDiGK"
   },
   "source": [
    "If the list consists of all integer elements then **`min( )`** and **`max( )`** gives the minimum and maximum value in the list."
   ]
  },
  {
   "cell_type": "code",
   "execution_count": 28,
   "metadata": {
    "execution": {
     "iopub.execute_input": "2023-04-27T13:41:11.731384Z",
     "iopub.status.busy": "2023-04-27T13:41:11.730981Z",
     "iopub.status.idle": "2023-04-27T13:41:11.738817Z",
     "shell.execute_reply": "2023-04-27T13:41:11.737655Z",
     "shell.execute_reply.started": "2023-04-27T13:41:11.731327Z"
    },
    "id": "D4QMM9C2DiGL"
   },
   "outputs": [
    {
     "data": {
      "text/plain": [
       "0"
      ]
     },
     "execution_count": 28,
     "metadata": {},
     "output_type": "execute_result"
    }
   ],
   "source": [
    "min(nums)"
   ]
  },
  {
   "cell_type": "code",
   "execution_count": 29,
   "metadata": {
    "execution": {
     "iopub.execute_input": "2023-04-27T13:41:11.753473Z",
     "iopub.status.busy": "2023-04-27T13:41:11.752817Z",
     "iopub.status.idle": "2023-04-27T13:41:11.761292Z",
     "shell.execute_reply": "2023-04-27T13:41:11.760016Z",
     "shell.execute_reply.started": "2023-04-27T13:41:11.753427Z"
    },
    "id": "fleXMNx2DiGM"
   },
   "outputs": [
    {
     "data": {
      "text/plain": [
       "9"
      ]
     },
     "execution_count": 29,
     "metadata": {},
     "output_type": "execute_result"
    }
   ],
   "source": [
    "max(nums)"
   ]
  },
  {
   "cell_type": "markdown",
   "metadata": {
    "id": "_StLPDEZDiGN"
   },
   "source": [
    "<div>Lists can be concatenated by adding, '+' them. The resultant list will contain all the elements of the lists that were added. The resultant list will not be a nested list.</div>"
   ]
  },
  {
   "cell_type": "code",
   "execution_count": 30,
   "metadata": {
    "execution": {
     "iopub.execute_input": "2023-04-27T13:41:11.771753Z",
     "iopub.status.busy": "2023-04-27T13:41:11.771368Z",
     "iopub.status.idle": "2023-04-27T13:41:11.77931Z",
     "shell.execute_reply": "2023-04-27T13:41:11.778205Z",
     "shell.execute_reply.started": "2023-04-27T13:41:11.771718Z"
    },
    "id": "-W1RrdspDiGO"
   },
   "outputs": [
    {
     "data": {
      "text/plain": [
       "[1, 2, 3, 5, 4, 7]"
      ]
     },
     "execution_count": 30,
     "metadata": {},
     "output_type": "execute_result"
    }
   ],
   "source": [
    "[1,2,3] + [5,4,7]"
   ]
  },
  {
   "cell_type": "markdown",
   "metadata": {
    "id": "NbLAC49RDiGO"
   },
   "source": [
    "<div>There might arise a requirement where you might need to check if a particular element is there in a predefined list. Consider the below list.</div>"
   ]
  },
  {
   "cell_type": "code",
   "execution_count": 31,
   "metadata": {
    "execution": {
     "iopub.execute_input": "2023-04-27T13:41:11.789485Z",
     "iopub.status.busy": "2023-04-27T13:41:11.788795Z",
     "iopub.status.idle": "2023-04-27T13:41:11.794959Z",
     "shell.execute_reply": "2023-04-27T13:41:11.79361Z",
     "shell.execute_reply.started": "2023-04-27T13:41:11.789445Z"
    },
    "id": "p9DwbQtoDiGP"
   },
   "outputs": [],
   "source": [
    "elements = ['Earth','Air','Fire','Water']"
   ]
  },
  {
   "cell_type": "markdown",
   "metadata": {
    "id": "tExuwFcfDiGP"
   },
   "source": [
    "<div>To check if 'Fire' and 'Rajath' is present in the list names. A conventional approach would be to use a for loop and iterate over the list and use the if condition. But in python you can use 'a in b' concept which would return 'True' if a is present in b and 'False' if not.</div>"
   ]
  },
  {
   "cell_type": "code",
   "execution_count": 32,
   "metadata": {
    "execution": {
     "iopub.execute_input": "2023-04-27T13:41:11.809888Z",
     "iopub.status.busy": "2023-04-27T13:41:11.809513Z",
     "iopub.status.idle": "2023-04-27T13:41:11.816508Z",
     "shell.execute_reply": "2023-04-27T13:41:11.815413Z",
     "shell.execute_reply.started": "2023-04-27T13:41:11.809854Z"
    },
    "id": "sHMgiGACDiGQ"
   },
   "outputs": [
    {
     "data": {
      "text/plain": [
       "True"
      ]
     },
     "execution_count": 32,
     "metadata": {},
     "output_type": "execute_result"
    }
   ],
   "source": [
    "'Fire' in elements"
   ]
  },
  {
   "cell_type": "code",
   "execution_count": 33,
   "metadata": {
    "execution": {
     "iopub.execute_input": "2023-04-27T13:41:11.833537Z",
     "iopub.status.busy": "2023-04-27T13:41:11.833169Z",
     "iopub.status.idle": "2023-04-27T13:41:11.840215Z",
     "shell.execute_reply": "2023-04-27T13:41:11.838948Z",
     "shell.execute_reply.started": "2023-04-27T13:41:11.833504Z"
    },
    "id": "wNP-n274DiGR"
   },
   "outputs": [
    {
     "data": {
      "text/plain": [
       "False"
      ]
     },
     "execution_count": 33,
     "metadata": {},
     "output_type": "execute_result"
    }
   ],
   "source": [
    "'Rajath' in elements"
   ]
  },
  {
   "cell_type": "markdown",
   "metadata": {
    "id": "XZQR-CRqDiGR"
   },
   "source": [
    "In a list with elements as string, **`max( )`** and **`min( )`** is applicable. **`max( )`** would return a string element whose ASCII value is the highest and the lowest when **`min( )`** is used. Note that only the first index of each element is considered each time and if they value is the same then second index considered so on and so forth."
   ]
  },
  {
   "cell_type": "code",
   "execution_count": 36,
   "metadata": {
    "execution": {
     "iopub.execute_input": "2023-04-27T13:41:11.86642Z",
     "iopub.status.busy": "2023-04-27T13:41:11.865855Z",
     "iopub.status.idle": "2023-04-27T13:41:11.870896Z",
     "shell.execute_reply": "2023-04-27T13:41:11.870066Z",
     "shell.execute_reply.started": "2023-04-27T13:41:11.866372Z"
    },
    "id": "V6YPQYlfDiGS"
   },
   "outputs": [],
   "source": [
    "mlist = ['bzaa','ds','nc','a','z','klm']"
   ]
  },
  {
   "cell_type": "code",
   "execution_count": 37,
   "metadata": {
    "execution": {
     "iopub.execute_input": "2023-04-27T13:41:11.905308Z",
     "iopub.status.busy": "2023-04-27T13:41:11.904922Z",
     "iopub.status.idle": "2023-04-27T13:41:11.91188Z",
     "shell.execute_reply": "2023-04-27T13:41:11.910337Z",
     "shell.execute_reply.started": "2023-04-27T13:41:11.905272Z"
    },
    "id": "07XR_M95DiGS"
   },
   "outputs": [
    {
     "name": "stdout",
     "output_type": "stream",
     "text": [
      "z\n",
      "a\n"
     ]
    }
   ],
   "source": [
    "print(max(mlist))\n",
    "print(min(mlist))"
   ]
  },
  {
   "cell_type": "markdown",
   "metadata": {
    "id": "XvP2tgWDDiGT"
   },
   "source": [
    "<div>Here the first index of each element is considered and thus z has the highest ASCII value thus it is returned and minimum ASCII is a. But what if numbers are declared as strings?</div>"
   ]
  },
  {
   "cell_type": "code",
   "execution_count": 40,
   "metadata": {
    "execution": {
     "iopub.execute_input": "2023-04-27T13:41:11.923864Z",
     "iopub.status.busy": "2023-04-27T13:41:11.923499Z",
     "iopub.status.idle": "2023-04-27T13:41:11.927985Z",
     "shell.execute_reply": "2023-04-27T13:41:11.927119Z",
     "shell.execute_reply.started": "2023-04-27T13:41:11.923832Z"
    },
    "id": "H7boEd_-DiGU"
   },
   "outputs": [],
   "source": [
    "nlist = ['1','94','93','1000']"
   ]
  },
  {
   "cell_type": "code",
   "execution_count": 41,
   "metadata": {
    "execution": {
     "iopub.execute_input": "2023-04-27T13:41:11.950112Z",
     "iopub.status.busy": "2023-04-27T13:41:11.949729Z",
     "iopub.status.idle": "2023-04-27T13:41:11.957301Z",
     "shell.execute_reply": "2023-04-27T13:41:11.955689Z",
     "shell.execute_reply.started": "2023-04-27T13:41:11.950077Z"
    },
    "id": "fAxwXRCmDiGU"
   },
   "outputs": [
    {
     "name": "stdout",
     "output_type": "stream",
     "text": [
      "94\n",
      "1\n"
     ]
    }
   ],
   "source": [
    "print(max(nlist))\n",
    "print(min(nlist))"
   ]
  },
  {
   "cell_type": "markdown",
   "metadata": {
    "id": "vLVS2vTBDiGV"
   },
   "source": [
    "Even if the numbers are declared in a string the first index of each element is considered and the maximum and minimum values are returned accordingly.<br>\n",
    "But if you want to find the **`max( )`** string element based on the length of the string then another parameter 'key=len' is declared inside the **`max( )`** and **`min( )`** function."
   ]
  },
  {
   "cell_type": "code",
   "execution_count": 42,
   "metadata": {
    "execution": {
     "iopub.execute_input": "2023-04-27T13:41:11.980023Z",
     "iopub.status.busy": "2023-04-27T13:41:11.979601Z",
     "iopub.status.idle": "2023-04-27T13:41:11.986935Z",
     "shell.execute_reply": "2023-04-27T13:41:11.985643Z",
     "shell.execute_reply.started": "2023-04-27T13:41:11.979982Z"
    },
    "id": "IA9hiDgoDiGX"
   },
   "outputs": [
    {
     "name": "stdout",
     "output_type": "stream",
     "text": [
      "Earth\n",
      "Air\n"
     ]
    }
   ],
   "source": [
    "print(max(elements, key=len))\n",
    "print(min(elements, key=len))"
   ]
  },
  {
   "cell_type": "markdown",
   "metadata": {
    "id": "2zi8Z_ysDiGY"
   },
   "source": [
    "But even 'Water' has length 5. **`max()`** or **`min()`** function returns the first element when there are two or more elements with the same length.\n",
    "<br>\n",
    "Any other built in function can be used or lambda function in place of len."
   ]
  },
  {
   "cell_type": "markdown",
   "metadata": {},
   "source": [
    "A string can be converted into a list by using the **`list()`** function."
   ]
  },
  {
   "cell_type": "code",
   "execution_count": 43,
   "metadata": {
    "execution": {
     "iopub.execute_input": "2023-04-27T13:41:12.005437Z",
     "iopub.status.busy": "2023-04-27T13:41:12.005053Z",
     "iopub.status.idle": "2023-04-27T13:41:12.012186Z",
     "shell.execute_reply": "2023-04-27T13:41:12.011155Z",
     "shell.execute_reply.started": "2023-04-27T13:41:12.005402Z"
    },
    "id": "qGzRCKG6DiGZ"
   },
   "outputs": [
    {
     "data": {
      "text/plain": [
       "['h', 'e', 'l', 'l', 'o']"
      ]
     },
     "execution_count": 43,
     "metadata": {},
     "output_type": "execute_result"
    }
   ],
   "source": [
    "list('hello')"
   ]
  },
  {
   "cell_type": "markdown",
   "metadata": {
    "id": "loTI9pWZDiGZ"
   },
   "source": [
    "**`append( )`** is used to add a element at the end of the list."
   ]
  },
  {
   "cell_type": "code",
   "execution_count": 44,
   "metadata": {
    "execution": {
     "iopub.execute_input": "2023-04-27T13:41:12.0265Z",
     "iopub.status.busy": "2023-04-27T13:41:12.025729Z",
     "iopub.status.idle": "2023-04-27T13:41:12.031854Z",
     "shell.execute_reply": "2023-04-27T13:41:12.030074Z",
     "shell.execute_reply.started": "2023-04-27T13:41:12.026462Z"
    },
    "id": "HE9Y2f4dDiGa"
   },
   "outputs": [],
   "source": [
    "lst = [1,1,4,8,7]"
   ]
  },
  {
   "cell_type": "code",
   "execution_count": 45,
   "metadata": {
    "execution": {
     "iopub.execute_input": "2023-04-27T13:41:12.053243Z",
     "iopub.status.busy": "2023-04-27T13:41:12.052806Z",
     "iopub.status.idle": "2023-04-27T13:41:12.059565Z",
     "shell.execute_reply": "2023-04-27T13:41:12.058423Z",
     "shell.execute_reply.started": "2023-04-27T13:41:12.053199Z"
    },
    "id": "mwaqeq7yDiGa"
   },
   "outputs": [
    {
     "name": "stdout",
     "output_type": "stream",
     "text": [
      "[1, 1, 4, 8, 7, 1]\n"
     ]
    }
   ],
   "source": [
    "lst.append(1)\n",
    "print(lst)"
   ]
  },
  {
   "cell_type": "markdown",
   "metadata": {
    "id": "X7BdIwqEDiGb"
   },
   "source": [
    "**`count( )`** is used to count the number of a particular element that is present in the list. "
   ]
  },
  {
   "cell_type": "code",
   "execution_count": 46,
   "metadata": {
    "execution": {
     "iopub.execute_input": "2023-04-27T13:41:12.077536Z",
     "iopub.status.busy": "2023-04-27T13:41:12.07672Z",
     "iopub.status.idle": "2023-04-27T13:41:12.084741Z",
     "shell.execute_reply": "2023-04-27T13:41:12.083535Z",
     "shell.execute_reply.started": "2023-04-27T13:41:12.077497Z"
    },
    "id": "IJmp1eFHDiGb"
   },
   "outputs": [
    {
     "data": {
      "text/plain": [
       "3"
      ]
     },
     "execution_count": 46,
     "metadata": {},
     "output_type": "execute_result"
    }
   ],
   "source": [
    "lst.count(1)"
   ]
  },
  {
   "cell_type": "markdown",
   "metadata": {
    "id": "-48ZybCTDiGc"
   },
   "source": [
    "**`append( )`** function can also be used to add a entire list at the end. Observe that the resultant list becomes a nested list."
   ]
  },
  {
   "cell_type": "code",
   "execution_count": 47,
   "metadata": {
    "execution": {
     "iopub.execute_input": "2023-04-27T13:41:12.201448Z",
     "iopub.status.busy": "2023-04-27T13:41:12.200331Z",
     "iopub.status.idle": "2023-04-27T13:41:12.206771Z",
     "shell.execute_reply": "2023-04-27T13:41:12.205813Z",
     "shell.execute_reply.started": "2023-04-27T13:41:12.201394Z"
    },
    "id": "0c1BmcQ9DiGc"
   },
   "outputs": [],
   "source": [
    "lst1 = [5,4,2,8]"
   ]
  },
  {
   "cell_type": "code",
   "execution_count": 48,
   "metadata": {
    "execution": {
     "iopub.execute_input": "2023-04-27T13:41:12.384179Z",
     "iopub.status.busy": "2023-04-27T13:41:12.383063Z",
     "iopub.status.idle": "2023-04-27T13:41:12.389824Z",
     "shell.execute_reply": "2023-04-27T13:41:12.388551Z",
     "shell.execute_reply.started": "2023-04-27T13:41:12.384139Z"
    },
    "id": "CjTsn3yKDiGd"
   },
   "outputs": [
    {
     "name": "stdout",
     "output_type": "stream",
     "text": [
      "[1, 1, 4, 8, 7, 1, [5, 4, 2, 8]]\n"
     ]
    }
   ],
   "source": [
    "lst.append(lst1)\n",
    "print(lst)"
   ]
  },
  {
   "cell_type": "markdown",
   "metadata": {
    "id": "KbAKm3R1DiGe"
   },
   "source": [
    "But if nested list is not what is desired then **`extend( )`** function can be used."
   ]
  },
  {
   "cell_type": "code",
   "execution_count": 49,
   "metadata": {
    "execution": {
     "iopub.execute_input": "2023-04-27T13:41:12.500627Z",
     "iopub.status.busy": "2023-04-27T13:41:12.500064Z",
     "iopub.status.idle": "2023-04-27T13:41:12.50867Z",
     "shell.execute_reply": "2023-04-27T13:41:12.507431Z",
     "shell.execute_reply.started": "2023-04-27T13:41:12.500573Z"
    },
    "id": "MgwDfeeaDiGf"
   },
   "outputs": [
    {
     "name": "stdout",
     "output_type": "stream",
     "text": [
      "[1, 1, 4, 8, 7, 5, 4, 2, 8]\n"
     ]
    }
   ],
   "source": [
    "lst = [1,1,4,8,7]\n",
    "lst.extend(lst1)\n",
    "print(lst)"
   ]
  },
  {
   "cell_type": "markdown",
   "metadata": {
    "id": "9UHYNpOdDiGf"
   },
   "source": [
    "**`index( )`** is used to find the index value of a particular element. Note that if there are multiple elements of the same value then the first index value of that element is returned."
   ]
  },
  {
   "cell_type": "code",
   "execution_count": 52,
   "metadata": {
    "execution": {
     "iopub.execute_input": "2023-04-27T13:41:12.529383Z",
     "iopub.status.busy": "2023-04-27T13:41:12.528181Z",
     "iopub.status.idle": "2023-04-27T13:41:12.536766Z",
     "shell.execute_reply": "2023-04-27T13:41:12.535502Z",
     "shell.execute_reply.started": "2023-04-27T13:41:12.529298Z"
    },
    "id": "qnDN1ujSDiGg"
   },
   "outputs": [
    {
     "data": {
      "text/plain": [
       "2"
      ]
     },
     "execution_count": 52,
     "metadata": {},
     "output_type": "execute_result"
    }
   ],
   "source": [
    "lst.index(4)"
   ]
  },
  {
   "cell_type": "markdown",
   "metadata": {
    "id": "6fbnZgY5DiGh"
   },
   "source": [
    "**`insert(x,y)`** is used to insert a element y at a specified index value x. **append( )** function made it only possible to insert at the end. "
   ]
  },
  {
   "cell_type": "code",
   "execution_count": 53,
   "metadata": {
    "execution": {
     "iopub.execute_input": "2023-04-27T13:41:12.556256Z",
     "iopub.status.busy": "2023-04-27T13:41:12.555601Z",
     "iopub.status.idle": "2023-04-27T13:41:12.562011Z",
     "shell.execute_reply": "2023-04-27T13:41:12.560753Z",
     "shell.execute_reply.started": "2023-04-27T13:41:12.556216Z"
    },
    "id": "DOEDlGiFDiGh"
   },
   "outputs": [
    {
     "name": "stdout",
     "output_type": "stream",
     "text": [
      "[1, 1, 4, 8, 7, 'name', 5, 4, 2, 8]\n"
     ]
    }
   ],
   "source": [
    "lst.insert(5, 'name')\n",
    "print(lst)"
   ]
  },
  {
   "cell_type": "markdown",
   "metadata": {
    "id": "5u9AjeAHDiGh"
   },
   "source": [
    "**`insert(x,y)`** inserts but does not replace element. If you want to replace the element with another element you simply assign the value to that particular index."
   ]
  },
  {
   "cell_type": "code",
   "execution_count": 54,
   "metadata": {
    "execution": {
     "iopub.execute_input": "2023-04-27T13:41:12.580965Z",
     "iopub.status.busy": "2023-04-27T13:41:12.579779Z",
     "iopub.status.idle": "2023-04-27T13:41:12.586608Z",
     "shell.execute_reply": "2023-04-27T13:41:12.585422Z",
     "shell.execute_reply.started": "2023-04-27T13:41:12.580919Z"
    },
    "id": "Dpt23lUIDiGi"
   },
   "outputs": [
    {
     "name": "stdout",
     "output_type": "stream",
     "text": [
      "[1, 1, 4, 8, 7, 'Python', 5, 4, 2, 8]\n"
     ]
    }
   ],
   "source": [
    "lst[5] = 'Python'\n",
    "print(lst)"
   ]
  },
  {
   "cell_type": "markdown",
   "metadata": {
    "id": "qP6rRnjGDiGi"
   },
   "source": [
    "**`pop( )`** function return the last element in the list. This is similar to the operation of a stack. Hence it wouldn't be wrong to tell that lists can be used as a stack."
   ]
  },
  {
   "cell_type": "code",
   "execution_count": 55,
   "metadata": {
    "execution": {
     "iopub.execute_input": "2023-04-27T13:41:12.609613Z",
     "iopub.status.busy": "2023-04-27T13:41:12.608479Z",
     "iopub.status.idle": "2023-04-27T13:41:12.616006Z",
     "shell.execute_reply": "2023-04-27T13:41:12.614933Z",
     "shell.execute_reply.started": "2023-04-27T13:41:12.609564Z"
    },
    "id": "VZezdaimDiGj"
   },
   "outputs": [
    {
     "data": {
      "text/plain": [
       "8"
      ]
     },
     "execution_count": 55,
     "metadata": {},
     "output_type": "execute_result"
    }
   ],
   "source": [
    "lst.pop()"
   ]
  },
  {
   "cell_type": "markdown",
   "metadata": {
    "id": "nlIyHr61DiGl"
   },
   "source": [
    "Index value can be specified to pop a ceratin element corresponding to that index value."
   ]
  },
  {
   "cell_type": "code",
   "execution_count": 56,
   "metadata": {
    "execution": {
     "iopub.execute_input": "2023-04-27T13:41:12.638958Z",
     "iopub.status.busy": "2023-04-27T13:41:12.637797Z",
     "iopub.status.idle": "2023-04-27T13:41:12.645319Z",
     "shell.execute_reply": "2023-04-27T13:41:12.644408Z",
     "shell.execute_reply.started": "2023-04-27T13:41:12.638912Z"
    },
    "id": "33huKFv0DiGn"
   },
   "outputs": [
    {
     "data": {
      "text/plain": [
       "1"
      ]
     },
     "execution_count": 56,
     "metadata": {},
     "output_type": "execute_result"
    }
   ],
   "source": [
    "lst.pop(0)"
   ]
  },
  {
   "cell_type": "markdown",
   "metadata": {
    "id": "w-PdCtbMDiGs"
   },
   "source": [
    "**`pop( )`** is used to remove element based on it's index value which can be assigned to a variable. One can also remove element by specifying the element itself using the **`remove( )`** function."
   ]
  },
  {
   "cell_type": "code",
   "execution_count": 57,
   "metadata": {
    "execution": {
     "iopub.execute_input": "2023-04-27T13:41:12.666389Z",
     "iopub.status.busy": "2023-04-27T13:41:12.665419Z",
     "iopub.status.idle": "2023-04-27T13:41:12.671845Z",
     "shell.execute_reply": "2023-04-27T13:41:12.670633Z",
     "shell.execute_reply.started": "2023-04-27T13:41:12.666325Z"
    },
    "id": "WLMj7WdrDiGv"
   },
   "outputs": [
    {
     "name": "stdout",
     "output_type": "stream",
     "text": [
      "[1, 4, 8, 7, 5, 4, 2]\n"
     ]
    }
   ],
   "source": [
    "lst.remove('Python')\n",
    "print(lst)"
   ]
  },
  {
   "cell_type": "markdown",
   "metadata": {
    "id": "ff8Uty7BDiGv"
   },
   "source": [
    "Alternative to **`remove`** function but with using index value is **`del`**"
   ]
  },
  {
   "cell_type": "code",
   "execution_count": 58,
   "metadata": {
    "execution": {
     "iopub.execute_input": "2023-04-27T13:41:12.690676Z",
     "iopub.status.busy": "2023-04-27T13:41:12.689339Z",
     "iopub.status.idle": "2023-04-27T13:41:12.69664Z",
     "shell.execute_reply": "2023-04-27T13:41:12.695551Z",
     "shell.execute_reply.started": "2023-04-27T13:41:12.690624Z"
    },
    "id": "qeUMjYcPDiGy"
   },
   "outputs": [
    {
     "name": "stdout",
     "output_type": "stream",
     "text": [
      "[1, 8, 7, 5, 4, 2]\n"
     ]
    }
   ],
   "source": [
    "del(lst[1])\n",
    "print(lst)"
   ]
  },
  {
   "cell_type": "markdown",
   "metadata": {
    "id": "TOHP2Go6DiGz"
   },
   "source": [
    "The entire elements present in the list can be reversed by using the **`reverse()`** function."
   ]
  },
  {
   "cell_type": "code",
   "execution_count": 59,
   "metadata": {
    "execution": {
     "iopub.execute_input": "2023-04-27T13:41:12.714339Z",
     "iopub.status.busy": "2023-04-27T13:41:12.713569Z",
     "iopub.status.idle": "2023-04-27T13:41:12.721129Z",
     "shell.execute_reply": "2023-04-27T13:41:12.719681Z",
     "shell.execute_reply.started": "2023-04-27T13:41:12.714287Z"
    },
    "id": "1RP6XeWBDiG1"
   },
   "outputs": [
    {
     "name": "stdout",
     "output_type": "stream",
     "text": [
      "[2, 4, 5, 7, 8, 1]\n"
     ]
    }
   ],
   "source": [
    "lst.reverse()\n",
    "print(lst)"
   ]
  },
  {
   "cell_type": "markdown",
   "metadata": {
    "id": "cBBzqjBUDiHB"
   },
   "source": [
    "Note that the nested list [5,4,2,8] is treated as a single element of the parent list lst. Thus the elements inside the nested list is not reversed.\n",
    "\n",
    "Python offers built in operation **`sort( )`** to arrange the elements in ascending order."
   ]
  },
  {
   "cell_type": "code",
   "execution_count": 60,
   "metadata": {
    "execution": {
     "iopub.execute_input": "2023-04-27T13:41:12.739338Z",
     "iopub.status.busy": "2023-04-27T13:41:12.738243Z",
     "iopub.status.idle": "2023-04-27T13:41:12.744697Z",
     "shell.execute_reply": "2023-04-27T13:41:12.743579Z",
     "shell.execute_reply.started": "2023-04-27T13:41:12.739295Z"
    },
    "id": "ijjPjxmODiHD"
   },
   "outputs": [
    {
     "name": "stdout",
     "output_type": "stream",
     "text": [
      "[1, 2, 4, 5, 7, 8]\n"
     ]
    }
   ],
   "source": [
    "lst.sort()\n",
    "print(lst)"
   ]
  },
  {
   "cell_type": "markdown",
   "metadata": {
    "id": "C6y1msDJDiHE"
   },
   "source": [
    "For descending order, By default the reverse condition will be False for reverse. Hence changing it to True would arrange the elements in descending order."
   ]
  },
  {
   "cell_type": "code",
   "execution_count": 61,
   "metadata": {
    "execution": {
     "iopub.execute_input": "2023-04-27T13:41:12.765153Z",
     "iopub.status.busy": "2023-04-27T13:41:12.764431Z",
     "iopub.status.idle": "2023-04-27T13:41:12.772471Z",
     "shell.execute_reply": "2023-04-27T13:41:12.771296Z",
     "shell.execute_reply.started": "2023-04-27T13:41:12.7651Z"
    },
    "id": "24zJ_CrBDiHE"
   },
   "outputs": [
    {
     "name": "stdout",
     "output_type": "stream",
     "text": [
      "[8, 7, 5, 4, 2, 1]\n"
     ]
    }
   ],
   "source": [
    "lst.sort(reverse=True)\n",
    "print(lst)"
   ]
  },
  {
   "cell_type": "markdown",
   "metadata": {
    "id": "PwaWLqQqDiHF"
   },
   "source": [
    "Similarly for lists containing string elements, **`sort( )`** would sort the elements based on it's ASCII value in ascending and by specifying `reverse=True` in descending."
   ]
  },
  {
   "cell_type": "code",
   "execution_count": 62,
   "metadata": {
    "execution": {
     "iopub.execute_input": "2023-04-27T13:41:12.793263Z",
     "iopub.status.busy": "2023-04-27T13:41:12.792446Z",
     "iopub.status.idle": "2023-04-27T13:41:12.800323Z",
     "shell.execute_reply": "2023-04-27T13:41:12.799312Z",
     "shell.execute_reply.started": "2023-04-27T13:41:12.793212Z"
    },
    "id": "4qG8fJPjDiHG"
   },
   "outputs": [
    {
     "name": "stdout",
     "output_type": "stream",
     "text": [
      "['Air', 'Earth', 'Fire', 'Water']\n",
      "['Water', 'Fire', 'Earth', 'Air']\n"
     ]
    }
   ],
   "source": [
    "elements.sort()\n",
    "print(elements)\n",
    "elements.sort(reverse=True)\n",
    "print(elements)"
   ]
  },
  {
   "cell_type": "markdown",
   "metadata": {
    "id": "zPpwJLlbDiHH"
   },
   "source": [
    "To sort based on length **`key=len`** should be specified as shown."
   ]
  },
  {
   "cell_type": "code",
   "execution_count": 63,
   "metadata": {
    "execution": {
     "iopub.execute_input": "2023-04-27T13:41:12.826909Z",
     "iopub.status.busy": "2023-04-27T13:41:12.825985Z",
     "iopub.status.idle": "2023-04-27T13:41:12.835012Z",
     "shell.execute_reply": "2023-04-27T13:41:12.833244Z",
     "shell.execute_reply.started": "2023-04-27T13:41:12.82685Z"
    },
    "id": "O8W57j17DiHH"
   },
   "outputs": [
    {
     "name": "stdout",
     "output_type": "stream",
     "text": [
      "['Air', 'Fire', 'Water', 'Earth']\n",
      "['Water', 'Earth', 'Fire', 'Air']\n"
     ]
    }
   ],
   "source": [
    "elements.sort(key=len)\n",
    "print(elements)\n",
    "elements.sort(key=len,reverse=True)\n",
    "print(elements)"
   ]
  },
  {
   "cell_type": "markdown",
   "metadata": {
    "id": "0tJHg-x3DiHI"
   },
   "source": [
    "<h2>Copying a list</h2>"
   ]
  },
  {
   "cell_type": "markdown",
   "metadata": {
    "id": "qN6jJdPHDiHI"
   },
   "source": [
    "<h3> Shallow copy versus deep copy</h3>\n",
    "<div>How about copying one list to another?</div>"
   ]
  },
  {
   "cell_type": "code",
   "execution_count": 65,
   "metadata": {
    "execution": {
     "iopub.execute_input": "2023-04-27T13:41:12.851789Z",
     "iopub.status.busy": "2023-04-27T13:41:12.8514Z",
     "iopub.status.idle": "2023-04-27T13:41:12.858018Z",
     "shell.execute_reply": "2023-04-27T13:41:12.856782Z",
     "shell.execute_reply.started": "2023-04-27T13:41:12.85175Z"
    }
   },
   "outputs": [
    {
     "name": "stdout",
     "output_type": "stream",
     "text": [
      "[1, 3, 4]\n",
      "[4, 3, 4]\n",
      "[4, 3, 4]\n"
     ]
    }
   ],
   "source": [
    "a = [1,3, 4]\n",
    "print(a)\n",
    "b = a\n",
    "a[0] = 4\n",
    "print(a)\n",
    "print(b)"
   ]
  },
  {
   "cell_type": "markdown",
   "metadata": {},
   "source": [
    "<div>Opps, why did b change? Let's see another case.</div>"
   ]
  },
  {
   "cell_type": "code",
   "execution_count": 67,
   "metadata": {
    "execution": {
     "iopub.execute_input": "2023-04-27T13:41:12.877696Z",
     "iopub.status.busy": "2023-04-27T13:41:12.8768Z",
     "iopub.status.idle": "2023-04-27T13:41:12.884857Z",
     "shell.execute_reply": "2023-04-27T13:41:12.883521Z",
     "shell.execute_reply.started": "2023-04-27T13:41:12.87765Z"
    }
   },
   "outputs": [
    {
     "name": "stdout",
     "output_type": "stream",
     "text": [
      "list a: [1, 2, 11]\n",
      "list b: [1, 2, 11]\n"
     ]
    }
   ],
   "source": [
    "a = [1, 2, 3]\n",
    "\n",
    "def func(input_list):\n",
    "    input_list[2] = 11\n",
    "    return input_list\n",
    "\n",
    "b = func(a)\n",
    "print(\"list a:\", a)\n",
    "print(\"list b:\", b)"
   ]
  },
  {
   "cell_type": "markdown",
   "metadata": {},
   "source": [
    "<div>This is because in both the scenarios above, the new variable that we created actually binds to the same memory address of a, which means although it seems that we created a new variable b, it does not take actual memory space and the new variable was a reference to list a. You can verify this using the default id() function as shown below.</div>"
   ]
  },
  {
   "cell_type": "code",
   "execution_count": 69,
   "metadata": {
    "execution": {
     "iopub.execute_input": "2023-04-27T13:41:12.917845Z",
     "iopub.status.busy": "2023-04-27T13:41:12.917166Z",
     "iopub.status.idle": "2023-04-27T13:41:12.923554Z",
     "shell.execute_reply": "2023-04-27T13:41:12.922307Z",
     "shell.execute_reply.started": "2023-04-27T13:41:12.917803Z"
    }
   },
   "outputs": [
    {
     "name": "stdout",
     "output_type": "stream",
     "text": [
      "3013667099904\n",
      "3013667099904\n"
     ]
    }
   ],
   "source": [
    "print(id(a))\n",
    "print(id(b))"
   ]
  },
  {
   "cell_type": "markdown",
   "metadata": {},
   "source": [
    "How to resolve this? We use the copy package to help. In the below cell we import the copy package and show the use of **`copy()`** function to help resplve the problem. Subsequently, we show that copy() function also fails when you have a list inside a list. We use the **`deepcopy()`** funtion to help find a final resolve."
   ]
  },
  {
   "cell_type": "code",
   "execution_count": 71,
   "metadata": {
    "execution": {
     "iopub.execute_input": "2023-04-27T13:41:12.937572Z",
     "iopub.status.busy": "2023-04-27T13:41:12.937205Z",
     "iopub.status.idle": "2023-04-27T13:41:12.946262Z",
     "shell.execute_reply": "2023-04-27T13:41:12.945158Z",
     "shell.execute_reply.started": "2023-04-27T13:41:12.937537Z"
    }
   },
   "outputs": [
    {
     "name": "stdout",
     "output_type": "stream",
     "text": [
      "[10, 2, 3]\n",
      "[1, 2, 3]\n",
      "[[10], [1, 2], [4, 5, 6]]\n",
      "[[10], [1, 2], [4, 5, 6]]\n",
      "[[10], [10, 2], [12, 15, 6]]\n",
      "[[5], [10, 2], [12, 15, 6]]\n"
     ]
    }
   ],
   "source": [
    "import copy \n",
    "\n",
    "# use of copy\n",
    "a = [1, 2, 3]\n",
    "\n",
    "b = copy.copy(a)\n",
    "a[0] = 10\n",
    "\n",
    "print(a)\n",
    "print(b)\n",
    "\n",
    "# copy doesn't help in nested arrays\n",
    "a = [[1], [1,2], [4,5,6]]\n",
    "b = copy.copy(a)8\n",
    "a[0][0] = 10\n",
    "print(a)\n",
    "print(b)\n",
    "\n",
    "# deepcopy helps\n",
    "a = [[5], [10,2], [12,15,6]]\n",
    "b = copy.deepcopy(a)\n",
    "\n",
    "a[0][0] = 10\n",
    "print(a)\n",
    "print(b)\n"
   ]
  },
  {
   "cell_type": "markdown",
   "metadata": {
    "id": "6cBv-AykDiHQ"
   },
   "source": [
    "<h1 id = 'tups' style = \"font-size:30px; font-family:verdana ; font-weight : normal; background-color: #f6f5f5 ; color : #fe346e; text-align: center; border-radius: 100px 100px; padding: 10px\">Tuples\n",
    "<a class=\"anchor-link\" href=\"https://www.kaggle.com/code/varunnagpalspyz/ml-ai-week-1-data-structures-in-python/notebook#tups\">¶</a>\n",
    "</h1>"
   ]
  },
  {
   "cell_type": "markdown",
   "metadata": {
    "id": "Wrc4f5aHDiHQ"
   },
   "source": [
    "Tuples are similar to lists but only big difference is the elements inside a list can be changed but in tuple it cannot be changed. Think of tuples as something which has to be True for a particular something and cannot be True for no other values. For better understanding, Recall **`divmod()`** function."
   ]
  },
  {
   "cell_type": "code",
   "execution_count": 72,
   "metadata": {
    "execution": {
     "iopub.execute_input": "2023-04-27T13:41:12.958767Z",
     "iopub.status.busy": "2023-04-27T13:41:12.958403Z",
     "iopub.status.idle": "2023-04-27T13:41:12.965121Z",
     "shell.execute_reply": "2023-04-27T13:41:12.963739Z",
     "shell.execute_reply.started": "2023-04-27T13:41:12.958732Z"
    },
    "id": "PQHd69KJDiHQ"
   },
   "outputs": [
    {
     "name": "stdout",
     "output_type": "stream",
     "text": [
      "(3, 1)\n",
      "<class 'tuple'>\n"
     ]
    }
   ],
   "source": [
    "xyz = divmod(10,3)\n",
    "print(xyz)\n",
    "print(type(xyz))"
   ]
  },
  {
   "cell_type": "markdown",
   "metadata": {
    "id": "hPDEwtiUDiHQ"
   },
   "source": [
    "<div>Here the quotient has to be 3 and the remainder has to be 1. These values cannot be changed whatsoever when 10 is divided by 3. Hence divmod returns these values in a tuple.</div>\n",
    "<br>\n",
    "<div>To define a tuple, A variable is assigned to paranthesis ( ) or tuple( ).</div>"
   ]
  },
  {
   "cell_type": "code",
   "execution_count": 73,
   "metadata": {
    "execution": {
     "iopub.execute_input": "2023-04-27T13:41:12.978775Z",
     "iopub.status.busy": "2023-04-27T13:41:12.978415Z",
     "iopub.status.idle": "2023-04-27T13:41:12.983123Z",
     "shell.execute_reply": "2023-04-27T13:41:12.982139Z",
     "shell.execute_reply.started": "2023-04-27T13:41:12.978742Z"
    },
    "id": "Jvu0BfTuDiHR"
   },
   "outputs": [],
   "source": [
    "tup = ()\n",
    "tup2 = tuple()"
   ]
  },
  {
   "cell_type": "markdown",
   "metadata": {
    "id": "DtdJshn7DiHS"
   },
   "source": [
    "<div>If you want to directly declare a tuple it can be done by using a comma at the end of the data.</div>"
   ]
  },
  {
   "cell_type": "code",
   "execution_count": 75,
   "metadata": {
    "execution": {
     "iopub.execute_input": "2023-04-27T13:41:13.003515Z",
     "iopub.status.busy": "2023-04-27T13:41:13.003063Z",
     "iopub.status.idle": "2023-04-27T13:41:13.011435Z",
     "shell.execute_reply": "2023-04-27T13:41:13.010203Z",
     "shell.execute_reply.started": "2023-04-27T13:41:13.003476Z"
    },
    "id": "WuNvM23TDiHS"
   },
   "outputs": [
    {
     "data": {
      "text/plain": [
       "(27,)"
      ]
     },
     "execution_count": 75,
     "metadata": {},
     "output_type": "execute_result"
    }
   ],
   "source": [
    "27,"
   ]
  },
  {
   "cell_type": "markdown",
   "metadata": {
    "id": "CS-ANCxcDiHS"
   },
   "source": [
    "<div>27 when multiplied by 2 yields 54, But when multiplied with a tuple the data is repeated twice.</div>"
   ]
  },
  {
   "cell_type": "code",
   "execution_count": 76,
   "metadata": {
    "execution": {
     "iopub.execute_input": "2023-04-27T13:41:13.031518Z",
     "iopub.status.busy": "2023-04-27T13:41:13.031074Z",
     "iopub.status.idle": "2023-04-27T13:41:13.039304Z",
     "shell.execute_reply": "2023-04-27T13:41:13.038052Z",
     "shell.execute_reply.started": "2023-04-27T13:41:13.031478Z"
    },
    "id": "N74h3FKdDiHT"
   },
   "outputs": [
    {
     "data": {
      "text/plain": [
       "(27, 27)"
      ]
     },
     "execution_count": 76,
     "metadata": {},
     "output_type": "execute_result"
    }
   ],
   "source": [
    "2*(27,)"
   ]
  },
  {
   "cell_type": "markdown",
   "metadata": {
    "id": "jgyf1zb7DiHU"
   },
   "source": [
    "Values can be assigned while declaring a tuple. It takes a list as input and converts it into a tuple or it takes a string and converts it into a tuple."
   ]
  },
  {
   "cell_type": "code",
   "execution_count": 77,
   "metadata": {
    "execution": {
     "iopub.execute_input": "2023-04-27T13:41:13.071746Z",
     "iopub.status.busy": "2023-04-27T13:41:13.071312Z",
     "iopub.status.idle": "2023-04-27T13:41:13.077639Z",
     "shell.execute_reply": "2023-04-27T13:41:13.076408Z",
     "shell.execute_reply.started": "2023-04-27T13:41:13.071707Z"
    },
    "id": "JhopS5YrDiHU",
    "scrolled": true
   },
   "outputs": [
    {
     "name": "stdout",
     "output_type": "stream",
     "text": [
      "(1, 2, 3)\n",
      "('H', 'e', 'l', 'l', 'o')\n"
     ]
    }
   ],
   "source": [
    "tup3 = tuple([1,2,3])\n",
    "print(tup3)\n",
    "tup4 = tuple('Hello')\n",
    "print(tup4)"
   ]
  },
  {
   "cell_type": "markdown",
   "metadata": {
    "id": "SimgoAzBDiHU"
   },
   "source": [
    "It follows the same indexing and slicing as Lists."
   ]
  },
  {
   "cell_type": "code",
   "execution_count": 78,
   "metadata": {
    "execution": {
     "iopub.execute_input": "2023-04-27T13:41:13.085414Z",
     "iopub.status.busy": "2023-04-27T13:41:13.085009Z",
     "iopub.status.idle": "2023-04-27T13:41:13.091515Z",
     "shell.execute_reply": "2023-04-27T13:41:13.090391Z",
     "shell.execute_reply.started": "2023-04-27T13:41:13.085376Z"
    },
    "id": "n5QrExPPDiHV"
   },
   "outputs": [
    {
     "name": "stdout",
     "output_type": "stream",
     "text": [
      "2\n",
      "('H', 'e', 'l')\n"
     ]
    }
   ],
   "source": [
    "print(tup3[1])\n",
    "tup5 = tup4[:3]\n",
    "print(tup5)"
   ]
  },
  {
   "cell_type": "markdown",
   "metadata": {
    "id": "9cmuH19-DiHV"
   },
   "source": [
    "### Mapping one tuple to another"
   ]
  },
  {
   "cell_type": "code",
   "execution_count": 79,
   "metadata": {
    "execution": {
     "iopub.execute_input": "2023-04-27T13:41:13.109381Z",
     "iopub.status.busy": "2023-04-27T13:41:13.10892Z",
     "iopub.status.idle": "2023-04-27T13:41:13.115485Z",
     "shell.execute_reply": "2023-04-27T13:41:13.11436Z",
     "shell.execute_reply.started": "2023-04-27T13:41:13.109315Z"
    },
    "id": "ykSitsE6DiHW"
   },
   "outputs": [],
   "source": [
    "(a,b,c)= ('alpha','beta','gamma')"
   ]
  },
  {
   "cell_type": "code",
   "execution_count": 80,
   "metadata": {
    "execution": {
     "iopub.execute_input": "2023-04-27T13:41:13.136109Z",
     "iopub.status.busy": "2023-04-27T13:41:13.135626Z",
     "iopub.status.idle": "2023-04-27T13:41:13.142748Z",
     "shell.execute_reply": "2023-04-27T13:41:13.141322Z",
     "shell.execute_reply.started": "2023-04-27T13:41:13.136059Z"
    },
    "id": "bptB6Q_-DiHW"
   },
   "outputs": [
    {
     "name": "stdout",
     "output_type": "stream",
     "text": [
      "alpha beta gamma\n"
     ]
    }
   ],
   "source": [
    "print(a,b,c)"
   ]
  },
  {
   "cell_type": "code",
   "execution_count": 81,
   "metadata": {
    "execution": {
     "iopub.execute_input": "2023-04-27T13:41:13.17351Z",
     "iopub.status.busy": "2023-04-27T13:41:13.173067Z",
     "iopub.status.idle": "2023-04-27T13:41:13.179207Z",
     "shell.execute_reply": "2023-04-27T13:41:13.177955Z",
     "shell.execute_reply.started": "2023-04-27T13:41:13.173468Z"
    },
    "id": "uKmgnZ5-DiHW"
   },
   "outputs": [
    {
     "name": "stdout",
     "output_type": "stream",
     "text": [
      "('R', 'a', 'j', 'a', 't', 'h', 'K', 'u', 'm', 'a', 'r', 'M', 'P')\n"
     ]
    }
   ],
   "source": [
    "d = tuple('RajathKumarMP')\n",
    "print(d)"
   ]
  },
  {
   "cell_type": "markdown",
   "metadata": {
    "id": "FEM-MZFODiHX"
   },
   "source": [
    "<h3>Built In Tuple functions</h3>"
   ]
  },
  {
   "cell_type": "markdown",
   "metadata": {
    "id": "yh_qJNNDDiHX"
   },
   "source": [
    "**`count()`** function counts the number of specified element that is present in the tuple."
   ]
  },
  {
   "cell_type": "code",
   "execution_count": 82,
   "metadata": {
    "execution": {
     "iopub.execute_input": "2023-04-27T13:41:13.205256Z",
     "iopub.status.busy": "2023-04-27T13:41:13.204881Z",
     "iopub.status.idle": "2023-04-27T13:41:13.212841Z",
     "shell.execute_reply": "2023-04-27T13:41:13.21159Z",
     "shell.execute_reply.started": "2023-04-27T13:41:13.205222Z"
    },
    "id": "4bHAqQ5GDiHY"
   },
   "outputs": [
    {
     "data": {
      "text/plain": [
       "3"
      ]
     },
     "execution_count": 82,
     "metadata": {},
     "output_type": "execute_result"
    }
   ],
   "source": [
    "d.count('a')"
   ]
  },
  {
   "cell_type": "markdown",
   "metadata": {
    "id": "Jd3CaGyTDiHZ"
   },
   "source": [
    "**`index()`** function returns the index of the specified element. If the elements are more than one then the index of the first element of that specified element is returned"
   ]
  },
  {
   "cell_type": "code",
   "execution_count": 83,
   "metadata": {
    "execution": {
     "iopub.execute_input": "2023-04-27T13:41:13.221506Z",
     "iopub.status.busy": "2023-04-27T13:41:13.221126Z",
     "iopub.status.idle": "2023-04-27T13:41:13.230002Z",
     "shell.execute_reply": "2023-04-27T13:41:13.228672Z",
     "shell.execute_reply.started": "2023-04-27T13:41:13.22147Z"
    },
    "id": "Umxz1pUWDiHa"
   },
   "outputs": [
    {
     "data": {
      "text/plain": [
       "1"
      ]
     },
     "execution_count": 83,
     "metadata": {},
     "output_type": "execute_result"
    }
   ],
   "source": [
    "d.index('a')"
   ]
  },
  {
   "cell_type": "markdown",
   "metadata": {
    "id": "Q8EvB5ioDiHa"
   },
   "source": [
    "<h1  id ='sets' style = \"font-size:30px; font-family:verdana ; font-weight : normal; background-color: #f6f5f5 ; color : #fe346e; text-align: center; border-radius: 100px 100px; padding: 10px\">Sets\n",
    "<a class=\"anchor-link\" href=\"https://www.kaggle.com/code/varunnagpalspyz/ml-ai-week-1-data-structures-in-python/notebook#sets\">¶</a>\n",
    "</h1>"
   ]
  },
  {
   "cell_type": "markdown",
   "metadata": {
    "id": "nWt9QubqDiHb"
   },
   "source": [
    "<div>Sets are mainly used to eliminate repeated numbers in a sequence/list. It is also used to perform some standard set operations.\n",
    "<br><br>\n",
    "Set is an unordered collection of unique items. Unordered means when we display the elements of a set, it will come out in a random order. We can perform set operations like union, intersection on two sets. Sets have unique values. They eliminate duplicates. Since, set are unordered collection, indexing has no meaning. Hence, the slicing operator [] will not work.\n",
    "<br><br>\n",
    "Sets are declared as set() which will initialize a empty set. Also set([sequence]) can be executed to declare a set with elements</div>"
   ]
  },
  {
   "cell_type": "code",
   "execution_count": 84,
   "metadata": {
    "execution": {
     "iopub.execute_input": "2023-04-27T13:41:13.244795Z",
     "iopub.status.busy": "2023-04-27T13:41:13.244447Z",
     "iopub.status.idle": "2023-04-27T13:41:13.251131Z",
     "shell.execute_reply": "2023-04-27T13:41:13.249899Z",
     "shell.execute_reply.started": "2023-04-27T13:41:13.244763Z"
    },
    "id": "PssWaZesDiHc"
   },
   "outputs": [
    {
     "name": "stdout",
     "output_type": "stream",
     "text": [
      "<class 'set'>\n"
     ]
    }
   ],
   "source": [
    "first_set = set()\n",
    "print(type(first_set))"
   ]
  },
  {
   "cell_type": "code",
   "execution_count": 85,
   "metadata": {
    "execution": {
     "iopub.execute_input": "2023-04-27T13:41:13.270269Z",
     "iopub.status.busy": "2023-04-27T13:41:13.269909Z",
     "iopub.status.idle": "2023-04-27T13:41:13.277156Z",
     "shell.execute_reply": "2023-04-27T13:41:13.275911Z",
     "shell.execute_reply.started": "2023-04-27T13:41:13.270236Z"
    },
    "id": "e7FH2GQtDiHc"
   },
   "outputs": [
    {
     "name": "stdout",
     "output_type": "stream",
     "text": [
      "{1, 2, 3, 4}\n"
     ]
    }
   ],
   "source": [
    "list_to_set = set([1,2,2,3,3,4])\n",
    "print(list_to_set)"
   ]
  },
  {
   "cell_type": "markdown",
   "metadata": {
    "id": "ZKfJ4B8fDiHd"
   },
   "source": [
    "<div>Elements 2,3 which are repeated twice are seen only once. Thus in a set each element is distinct.</div>"
   ]
  },
  {
   "cell_type": "markdown",
   "metadata": {
    "id": "b-QCGDysDiHd"
   },
   "source": [
    "<h2>Built-in Functions</h2>"
   ]
  },
  {
   "cell_type": "code",
   "execution_count": 86,
   "metadata": {
    "execution": {
     "iopub.execute_input": "2023-04-27T13:41:13.291119Z",
     "iopub.status.busy": "2023-04-27T13:41:13.290793Z",
     "iopub.status.idle": "2023-04-27T13:41:13.296773Z",
     "shell.execute_reply": "2023-04-27T13:41:13.29554Z",
     "shell.execute_reply.started": "2023-04-27T13:41:13.291087Z"
    },
    "id": "W78jt6ERDiHf"
   },
   "outputs": [],
   "source": [
    "set1 = set([1,2,3])"
   ]
  },
  {
   "cell_type": "code",
   "execution_count": 87,
   "metadata": {
    "execution": {
     "iopub.execute_input": "2023-04-27T13:41:13.316236Z",
     "iopub.status.busy": "2023-04-27T13:41:13.315859Z",
     "iopub.status.idle": "2023-04-27T13:41:13.321807Z",
     "shell.execute_reply": "2023-04-27T13:41:13.320547Z",
     "shell.execute_reply.started": "2023-04-27T13:41:13.316202Z"
    },
    "id": "Yn5pZ4TvDiHf"
   },
   "outputs": [],
   "source": [
    "set2 = set([2,3,4,5])"
   ]
  },
  {
   "cell_type": "markdown",
   "metadata": {
    "id": "XS7z7fbCDiHg"
   },
   "source": [
    "**`union( )`** function returns a set which contains all the elements of both the sets without repition."
   ]
  },
  {
   "cell_type": "code",
   "execution_count": 88,
   "metadata": {
    "execution": {
     "iopub.execute_input": "2023-04-27T13:41:13.344167Z",
     "iopub.status.busy": "2023-04-27T13:41:13.343805Z",
     "iopub.status.idle": "2023-04-27T13:41:13.350723Z",
     "shell.execute_reply": "2023-04-27T13:41:13.349714Z",
     "shell.execute_reply.started": "2023-04-27T13:41:13.344133Z"
    },
    "id": "Cd7aSJMuDiHg"
   },
   "outputs": [
    {
     "data": {
      "text/plain": [
       "{1, 2, 3, 4, 5}"
      ]
     },
     "execution_count": 88,
     "metadata": {},
     "output_type": "execute_result"
    }
   ],
   "source": [
    "set1.union(set2)"
   ]
  },
  {
   "cell_type": "markdown",
   "metadata": {
    "id": "0203Qc-VDiHg"
   },
   "source": [
    "**`add( )`** will add a particular element into the set. Note that the index of the newly added element is arbitrary and can be placed anywhere not neccessarily in the end."
   ]
  },
  {
   "cell_type": "code",
   "execution_count": 89,
   "metadata": {
    "execution": {
     "iopub.execute_input": "2023-04-27T13:41:13.375428Z",
     "iopub.status.busy": "2023-04-27T13:41:13.374949Z",
     "iopub.status.idle": "2023-04-27T13:41:13.382319Z",
     "shell.execute_reply": "2023-04-27T13:41:13.381379Z",
     "shell.execute_reply.started": "2023-04-27T13:41:13.375372Z"
    },
    "id": "a0tONM7JDiHh"
   },
   "outputs": [
    {
     "data": {
      "text/plain": [
       "{0, 1, 2, 3}"
      ]
     },
     "execution_count": 89,
     "metadata": {},
     "output_type": "execute_result"
    }
   ],
   "source": [
    "set1.add(0)\n",
    "set1"
   ]
  },
  {
   "cell_type": "markdown",
   "metadata": {
    "id": "LpEzt2xCDiHh"
   },
   "source": [
    "**`intersection( )`** function outputs a set which contains all the elements that are in both sets."
   ]
  },
  {
   "cell_type": "code",
   "execution_count": 90,
   "metadata": {
    "execution": {
     "iopub.execute_input": "2023-04-27T13:41:13.405337Z",
     "iopub.status.busy": "2023-04-27T13:41:13.404934Z",
     "iopub.status.idle": "2023-04-27T13:41:13.413077Z",
     "shell.execute_reply": "2023-04-27T13:41:13.41175Z",
     "shell.execute_reply.started": "2023-04-27T13:41:13.405299Z"
    },
    "id": "pYb880DzDiHh"
   },
   "outputs": [
    {
     "data": {
      "text/plain": [
       "{2, 3}"
      ]
     },
     "execution_count": 90,
     "metadata": {},
     "output_type": "execute_result"
    }
   ],
   "source": [
    "set1.intersection(set2)"
   ]
  },
  {
   "cell_type": "markdown",
   "metadata": {
    "id": "wRaLk3e9DiHh"
   },
   "source": [
    "**`difference( )`** function ouptuts a set which contains elements that are in set1 and not in set2."
   ]
  },
  {
   "cell_type": "code",
   "execution_count": 91,
   "metadata": {
    "execution": {
     "iopub.execute_input": "2023-04-27T13:41:13.435512Z",
     "iopub.status.busy": "2023-04-27T13:41:13.434513Z",
     "iopub.status.idle": "2023-04-27T13:41:13.441833Z",
     "shell.execute_reply": "2023-04-27T13:41:13.440912Z",
     "shell.execute_reply.started": "2023-04-27T13:41:13.435469Z"
    },
    "id": "SaBkdlAbDiHh"
   },
   "outputs": [
    {
     "data": {
      "text/plain": [
       "{0, 1}"
      ]
     },
     "execution_count": 91,
     "metadata": {},
     "output_type": "execute_result"
    }
   ],
   "source": [
    "set1.difference(set2)"
   ]
  },
  {
   "cell_type": "markdown",
   "metadata": {
    "id": "ta1MX_NoDiHi"
   },
   "source": [
    "**`symmetric_difference( )`** function ouputs a function which contains elements that are in one of the sets."
   ]
  },
  {
   "cell_type": "code",
   "execution_count": 92,
   "metadata": {
    "execution": {
     "iopub.execute_input": "2023-04-27T13:41:13.457973Z",
     "iopub.status.busy": "2023-04-27T13:41:13.457567Z",
     "iopub.status.idle": "2023-04-27T13:41:13.466055Z",
     "shell.execute_reply": "2023-04-27T13:41:13.464723Z",
     "shell.execute_reply.started": "2023-04-27T13:41:13.457934Z"
    },
    "id": "ZXJr75iaDiHi"
   },
   "outputs": [
    {
     "data": {
      "text/plain": [
       "{0, 1, 4, 5}"
      ]
     },
     "execution_count": 92,
     "metadata": {},
     "output_type": "execute_result"
    }
   ],
   "source": [
    "set2.symmetric_difference(set1)"
   ]
  },
  {
   "cell_type": "markdown",
   "metadata": {
    "id": "ci-A--yMDiHi"
   },
   "source": [
    "**`issubset( )`, `isdisjoint( )`, `issuperset( )`** is used to check if the set1/set2 is a subset, disjoint or superset of set2/set1 respectively."
   ]
  },
  {
   "cell_type": "code",
   "execution_count": 93,
   "metadata": {
    "execution": {
     "iopub.execute_input": "2023-04-27T13:41:13.486242Z",
     "iopub.status.busy": "2023-04-27T13:41:13.485163Z",
     "iopub.status.idle": "2023-04-27T13:41:13.492236Z",
     "shell.execute_reply": "2023-04-27T13:41:13.491315Z",
     "shell.execute_reply.started": "2023-04-27T13:41:13.486195Z"
    },
    "id": "2HhdiYPJDiHi"
   },
   "outputs": [
    {
     "data": {
      "text/plain": [
       "False"
      ]
     },
     "execution_count": 93,
     "metadata": {},
     "output_type": "execute_result"
    }
   ],
   "source": [
    "set1.issubset(set2)"
   ]
  },
  {
   "cell_type": "code",
   "execution_count": 94,
   "metadata": {
    "execution": {
     "iopub.execute_input": "2023-04-27T13:41:13.512681Z",
     "iopub.status.busy": "2023-04-27T13:41:13.512033Z",
     "iopub.status.idle": "2023-04-27T13:41:13.520037Z",
     "shell.execute_reply": "2023-04-27T13:41:13.518826Z",
     "shell.execute_reply.started": "2023-04-27T13:41:13.512636Z"
    },
    "id": "BkJhlUSfDiHi"
   },
   "outputs": [
    {
     "data": {
      "text/plain": [
       "False"
      ]
     },
     "execution_count": 94,
     "metadata": {},
     "output_type": "execute_result"
    }
   ],
   "source": [
    "set2.isdisjoint(set1)"
   ]
  },
  {
   "cell_type": "code",
   "execution_count": 95,
   "metadata": {
    "execution": {
     "iopub.execute_input": "2023-04-27T13:41:13.535977Z",
     "iopub.status.busy": "2023-04-27T13:41:13.535582Z",
     "iopub.status.idle": "2023-04-27T13:41:13.542074Z",
     "shell.execute_reply": "2023-04-27T13:41:13.541247Z",
     "shell.execute_reply.started": "2023-04-27T13:41:13.535941Z"
    },
    "id": "ivZ7jQ03DiHj"
   },
   "outputs": [
    {
     "data": {
      "text/plain": [
       "False"
      ]
     },
     "execution_count": 95,
     "metadata": {},
     "output_type": "execute_result"
    }
   ],
   "source": [
    "set2.issuperset(set1)"
   ]
  },
  {
   "cell_type": "markdown",
   "metadata": {
    "id": "Qnlr4H0WDiHj"
   },
   "source": [
    "**`pop( )`** is used to remove an arbitrary element in the set"
   ]
  },
  {
   "cell_type": "code",
   "execution_count": 96,
   "metadata": {
    "execution": {
     "iopub.execute_input": "2023-04-27T13:41:13.561028Z",
     "iopub.status.busy": "2023-04-27T13:41:13.560632Z",
     "iopub.status.idle": "2023-04-27T13:41:13.566908Z",
     "shell.execute_reply": "2023-04-27T13:41:13.565686Z",
     "shell.execute_reply.started": "2023-04-27T13:41:13.560993Z"
    },
    "id": "iPLntfuODiHj"
   },
   "outputs": [
    {
     "name": "stdout",
     "output_type": "stream",
     "text": [
      "{1, 2, 3}\n"
     ]
    }
   ],
   "source": [
    "set1.pop()\n",
    "print(set1)"
   ]
  },
  {
   "cell_type": "markdown",
   "metadata": {
    "id": "yvXtK0g0DiHj"
   },
   "source": [
    "**`remove( )`** function deletes the specified element from the set."
   ]
  },
  {
   "cell_type": "code",
   "execution_count": 97,
   "metadata": {
    "execution": {
     "iopub.execute_input": "2023-04-27T13:41:13.58996Z",
     "iopub.status.busy": "2023-04-27T13:41:13.589272Z",
     "iopub.status.idle": "2023-04-27T13:41:13.597146Z",
     "shell.execute_reply": "2023-04-27T13:41:13.595989Z",
     "shell.execute_reply.started": "2023-04-27T13:41:13.589918Z"
    },
    "id": "d0ExNFxjDiHj"
   },
   "outputs": [
    {
     "data": {
      "text/plain": [
       "{1, 3}"
      ]
     },
     "execution_count": 97,
     "metadata": {},
     "output_type": "execute_result"
    }
   ],
   "source": [
    "set1.remove(2)\n",
    "set1"
   ]
  },
  {
   "cell_type": "markdown",
   "metadata": {
    "id": "QKiHEe_3DiHk"
   },
   "source": [
    "**`clear( )`** is used to clear all the elements and make that set an empty set."
   ]
  },
  {
   "cell_type": "code",
   "execution_count": 98,
   "metadata": {
    "execution": {
     "iopub.execute_input": "2023-04-27T13:41:13.618101Z",
     "iopub.status.busy": "2023-04-27T13:41:13.617695Z",
     "iopub.status.idle": "2023-04-27T13:41:13.624927Z",
     "shell.execute_reply": "2023-04-27T13:41:13.623756Z",
     "shell.execute_reply.started": "2023-04-27T13:41:13.618065Z"
    },
    "id": "up22f_ovDiHn"
   },
   "outputs": [
    {
     "data": {
      "text/plain": [
       "set()"
      ]
     },
     "execution_count": 98,
     "metadata": {},
     "output_type": "execute_result"
    }
   ],
   "source": [
    "set1.clear()\n",
    "set1"
   ]
  },
  {
   "cell_type": "markdown",
   "metadata": {},
   "source": [
    "<h1 id = 'dict' style = \"font-size:30px; font-family:verdana ; font-weight : normal; background-color: #f6f5f5 ; color : #fe346e; text-align: center; border-radius: 100px 100px; padding: 10px\">Dictionaries\n",
    "<a class=\"anchor-link\" href=\"https://www.kaggle.com/code/varunnagpalspyz/ml-ai-week-1-data-structures-in-python/notebook#dict\">¶</a>\n",
    "</h1>"
   ]
  },
  {
   "cell_type": "markdown",
   "metadata": {},
   "source": [
    "A dictionary consists of keys and values. It is helpful to compare a dictionary to a list. Instead of the numerical indexes such as a list, dictionaries have keys. These keys are labels that are used to access values within a dictionary.\n",
    "\n",
    "An example of a  Dictionary **Dict**:"
   ]
  },
  {
   "cell_type": "code",
   "execution_count": 99,
   "metadata": {
    "execution": {
     "iopub.execute_input": "2023-04-27T13:41:13.64476Z",
     "iopub.status.busy": "2023-04-27T13:41:13.644154Z",
     "iopub.status.idle": "2023-04-27T13:41:13.653143Z",
     "shell.execute_reply": "2023-04-27T13:41:13.651794Z",
     "shell.execute_reply.started": "2023-04-27T13:41:13.644715Z"
    }
   },
   "outputs": [
    {
     "data": {
      "text/plain": [
       "{'key1': 1,\n",
       " 'key2': '2',\n",
       " 'key3': [3, 3, 3],\n",
       " 'key4': (4, 4, 4),\n",
       " 'key5': 5,\n",
       " (0, 1): 6}"
      ]
     },
     "execution_count": 99,
     "metadata": {},
     "output_type": "execute_result"
    }
   ],
   "source": [
    "Dict={\"key1\":1,\"key2\":\"2\",\"key3\":[3,3,3],\"key4\":(4,4,4),('key5'):5,(0,1):6}\n",
    "Dict"
   ]
  },
  {
   "cell_type": "markdown",
   "metadata": {},
   "source": [
    " The keys can be strings:"
   ]
  },
  {
   "cell_type": "code",
   "execution_count": 100,
   "metadata": {
    "execution": {
     "iopub.execute_input": "2023-04-27T13:41:13.659529Z",
     "iopub.status.busy": "2023-04-27T13:41:13.658601Z",
     "iopub.status.idle": "2023-04-27T13:41:13.666387Z",
     "shell.execute_reply": "2023-04-27T13:41:13.665413Z",
     "shell.execute_reply.started": "2023-04-27T13:41:13.659489Z"
    }
   },
   "outputs": [
    {
     "data": {
      "text/plain": [
       "1"
      ]
     },
     "execution_count": 100,
     "metadata": {},
     "output_type": "execute_result"
    }
   ],
   "source": [
    "Dict[\"key1\"]"
   ]
  },
  {
   "cell_type": "markdown",
   "metadata": {},
   "source": [
    "Keys can also be any immutable object such as a tuple: "
   ]
  },
  {
   "cell_type": "code",
   "execution_count": 101,
   "metadata": {
    "execution": {
     "iopub.execute_input": "2023-04-27T13:41:13.671929Z",
     "iopub.status.busy": "2023-04-27T13:41:13.670847Z",
     "iopub.status.idle": "2023-04-27T13:41:13.680701Z",
     "shell.execute_reply": "2023-04-27T13:41:13.679303Z",
     "shell.execute_reply.started": "2023-04-27T13:41:13.671888Z"
    }
   },
   "outputs": [
    {
     "data": {
      "text/plain": [
       "6"
      ]
     },
     "execution_count": 101,
     "metadata": {},
     "output_type": "execute_result"
    }
   ],
   "source": [
    "Dict[(0,1)]"
   ]
  },
  {
   "cell_type": "markdown",
   "metadata": {},
   "source": [
    "Each key is separated from its value by a colon \"**:**\".  Commas separate the items, and the whole dictionary is enclosed in curly braces. An empty dictionary without any items is written with just two curly braces, like this  \"**{}**\"."
   ]
  },
  {
   "cell_type": "code",
   "execution_count": 102,
   "metadata": {
    "execution": {
     "iopub.execute_input": "2023-04-27T13:41:13.683708Z",
     "iopub.status.busy": "2023-04-27T13:41:13.683133Z",
     "iopub.status.idle": "2023-04-27T13:41:13.692059Z",
     "shell.execute_reply": "2023-04-27T13:41:13.690818Z",
     "shell.execute_reply.started": "2023-04-27T13:41:13.683661Z"
    }
   },
   "outputs": [
    {
     "data": {
      "text/plain": [
       "{'Thriller': '1982',\n",
       " 'Back in Black': '1980',\n",
       " 'The Dark Side of the Moon': '1973',\n",
       " 'The Bodyguard': '1992',\n",
       " 'Bat Out of Hell': '1977',\n",
       " 'Their Greatest Hits (1971-1975)': '1976',\n",
       " 'Saturday Night Fever': '1977',\n",
       " 'Rumours': '1977'}"
      ]
     },
     "execution_count": 102,
     "metadata": {},
     "output_type": "execute_result"
    }
   ],
   "source": [
    "release_year_dict = {\"Thriller\":\"1982\", \"Back in Black\":\"1980\", \\\n",
    "                    \"The Dark Side of the Moon\":\"1973\", \"The Bodyguard\":\"1992\", \\\n",
    "                    \"Bat Out of Hell\":\"1977\", \"Their Greatest Hits (1971-1975)\":\"1976\", \\\n",
    "                    \"Saturday Night Fever\":\"1977\", \"Rumours\":\"1977\"}\n",
    "release_year_dict"
   ]
  },
  {
   "cell_type": "markdown",
   "metadata": {},
   "source": [
    "In summary, like a list, a dictionary holds a sequence of elements. Each element is represented by a key and its corresponding value. Dictionaries are created with two curly braces containing keys and values separated by a colon. For every key, there can only be a single value, however,  multiple keys can hold the same value. Keys can only be strings, numbers, or tuples, but values can be any data type."
   ]
  },
  {
   "cell_type": "markdown",
   "metadata": {},
   "source": [
    "You can retrieve the values based on the names:"
   ]
  },
  {
   "cell_type": "code",
   "execution_count": 103,
   "metadata": {
    "execution": {
     "iopub.execute_input": "2023-04-27T13:41:13.696819Z",
     "iopub.status.busy": "2023-04-27T13:41:13.696407Z",
     "iopub.status.idle": "2023-04-27T13:41:13.703147Z",
     "shell.execute_reply": "2023-04-27T13:41:13.70199Z",
     "shell.execute_reply.started": "2023-04-27T13:41:13.696782Z"
    }
   },
   "outputs": [
    {
     "data": {
      "text/plain": [
       "'1982'"
      ]
     },
     "execution_count": 103,
     "metadata": {},
     "output_type": "execute_result"
    }
   ],
   "source": [
    "release_year_dict['Thriller'] "
   ]
  },
  {
   "cell_type": "code",
   "execution_count": 104,
   "metadata": {
    "execution": {
     "iopub.execute_input": "2023-04-27T13:41:13.708085Z",
     "iopub.status.busy": "2023-04-27T13:41:13.707744Z",
     "iopub.status.idle": "2023-04-27T13:41:13.715285Z",
     "shell.execute_reply": "2023-04-27T13:41:13.714277Z",
     "shell.execute_reply.started": "2023-04-27T13:41:13.708052Z"
    }
   },
   "outputs": [
    {
     "data": {
      "text/plain": [
       "'1992'"
      ]
     },
     "execution_count": 104,
     "metadata": {},
     "output_type": "execute_result"
    }
   ],
   "source": [
    "release_year_dict['The Bodyguard'] "
   ]
  },
  {
   "cell_type": "markdown",
   "metadata": {},
   "source": [
    "Now let us retrieve the keys of the dictionary using the method **`keys()`**:"
   ]
  },
  {
   "cell_type": "code",
   "execution_count": 105,
   "metadata": {
    "execution": {
     "iopub.execute_input": "2023-04-27T13:41:13.717437Z",
     "iopub.status.busy": "2023-04-27T13:41:13.71707Z",
     "iopub.status.idle": "2023-04-27T13:41:13.727709Z",
     "shell.execute_reply": "2023-04-27T13:41:13.726404Z",
     "shell.execute_reply.started": "2023-04-27T13:41:13.717405Z"
    }
   },
   "outputs": [
    {
     "data": {
      "text/plain": [
       "dict_keys(['Thriller', 'Back in Black', 'The Dark Side of the Moon', 'The Bodyguard', 'Bat Out of Hell', 'Their Greatest Hits (1971-1975)', 'Saturday Night Fever', 'Rumours'])"
      ]
     },
     "execution_count": 105,
     "metadata": {},
     "output_type": "execute_result"
    }
   ],
   "source": [
    "release_year_dict.keys() "
   ]
  },
  {
   "cell_type": "markdown",
   "metadata": {},
   "source": [
    " You can retrieve the values using the method  **`values()`**:"
   ]
  },
  {
   "cell_type": "code",
   "execution_count": 106,
   "metadata": {
    "execution": {
     "iopub.execute_input": "2023-04-27T13:41:13.730449Z",
     "iopub.status.busy": "2023-04-27T13:41:13.729272Z",
     "iopub.status.idle": "2023-04-27T13:41:13.737835Z",
     "shell.execute_reply": "2023-04-27T13:41:13.736661Z",
     "shell.execute_reply.started": "2023-04-27T13:41:13.730399Z"
    }
   },
   "outputs": [
    {
     "data": {
      "text/plain": [
       "dict_values(['1982', '1980', '1973', '1992', '1977', '1976', '1977', '1977'])"
      ]
     },
     "execution_count": 106,
     "metadata": {},
     "output_type": "execute_result"
    }
   ],
   "source": [
    "release_year_dict.values() "
   ]
  },
  {
   "cell_type": "markdown",
   "metadata": {},
   "source": [
    "We can add an entry:"
   ]
  },
  {
   "cell_type": "code",
   "execution_count": 107,
   "metadata": {
    "execution": {
     "iopub.execute_input": "2023-04-27T13:41:13.740249Z",
     "iopub.status.busy": "2023-04-27T13:41:13.739423Z",
     "iopub.status.idle": "2023-04-27T13:41:13.748178Z",
     "shell.execute_reply": "2023-04-27T13:41:13.746802Z",
     "shell.execute_reply.started": "2023-04-27T13:41:13.740202Z"
    }
   },
   "outputs": [
    {
     "data": {
      "text/plain": [
       "{'Thriller': '1982',\n",
       " 'Back in Black': '1980',\n",
       " 'The Dark Side of the Moon': '1973',\n",
       " 'The Bodyguard': '1992',\n",
       " 'Bat Out of Hell': '1977',\n",
       " 'Their Greatest Hits (1971-1975)': '1976',\n",
       " 'Saturday Night Fever': '1977',\n",
       " 'Rumours': '1977',\n",
       " 'Graduation': '2007'}"
      ]
     },
     "execution_count": 107,
     "metadata": {},
     "output_type": "execute_result"
    }
   ],
   "source": [
    "release_year_dict['Graduation']='2007'\n",
    "release_year_dict"
   ]
  },
  {
   "cell_type": "markdown",
   "metadata": {},
   "source": [
    "We can delete an entry:"
   ]
  },
  {
   "cell_type": "code",
   "execution_count": 108,
   "metadata": {
    "execution": {
     "iopub.execute_input": "2023-04-27T13:41:13.751551Z",
     "iopub.status.busy": "2023-04-27T13:41:13.751187Z",
     "iopub.status.idle": "2023-04-27T13:41:13.760485Z",
     "shell.execute_reply": "2023-04-27T13:41:13.759299Z",
     "shell.execute_reply.started": "2023-04-27T13:41:13.751515Z"
    }
   },
   "outputs": [
    {
     "data": {
      "text/plain": [
       "{'Back in Black': '1980',\n",
       " 'The Dark Side of the Moon': '1973',\n",
       " 'The Bodyguard': '1992',\n",
       " 'Bat Out of Hell': '1977',\n",
       " 'Their Greatest Hits (1971-1975)': '1976',\n",
       " 'Saturday Night Fever': '1977',\n",
       " 'Rumours': '1977'}"
      ]
     },
     "execution_count": 108,
     "metadata": {},
     "output_type": "execute_result"
    }
   ],
   "source": [
    "del(release_year_dict['Thriller'])\n",
    "del(release_year_dict['Graduation'])\n",
    "release_year_dict"
   ]
  },
  {
   "cell_type": "markdown",
   "metadata": {},
   "source": [
    " We can verify if an element is in the dictionary: "
   ]
  },
  {
   "cell_type": "code",
   "execution_count": 109,
   "metadata": {
    "execution": {
     "iopub.execute_input": "2023-04-27T13:41:13.762508Z",
     "iopub.status.busy": "2023-04-27T13:41:13.761857Z",
     "iopub.status.idle": "2023-04-27T13:41:13.7701Z",
     "shell.execute_reply": "2023-04-27T13:41:13.768915Z",
     "shell.execute_reply.started": "2023-04-27T13:41:13.762471Z"
    }
   },
   "outputs": [
    {
     "data": {
      "text/plain": [
       "True"
      ]
     },
     "execution_count": 109,
     "metadata": {},
     "output_type": "execute_result"
    }
   ],
   "source": [
    "'The Bodyguard' in release_year_dict"
   ]
  },
  {
   "cell_type": "markdown",
   "metadata": {},
   "source": [
    "<h1 id = 'compseq' style = \"font-size:30px; font-family:verdana ; font-weight : normal; background-color: #f6f5f5 ; color : #fe346e; text-align: center; border-radius: 100px 100px; padding: 10px\">Comparing Sequences\n",
    "<a class=\"anchor-link\" href=\"https://www.kaggle.com/code/varunnagpalspyz/ml-ai-week-1-data-structures-in-python/notebook#compseq\">¶</a>\n",
    "</h1>\n",
    "\n",
    "<div>Sequence objects typically may be compared to other objects with the same sequence type. The comparison uses lexicographical ordering: first the first two items are compared, and if they differ this determines the outcome of the comparison; if they are equal, the next two items are compared, and so on, until either sequence is exhausted.</div>"
   ]
  },
  {
   "cell_type": "code",
   "execution_count": 110,
   "metadata": {
    "execution": {
     "iopub.execute_input": "2023-04-27T13:41:13.771904Z",
     "iopub.status.busy": "2023-04-27T13:41:13.771516Z",
     "iopub.status.idle": "2023-04-27T13:41:13.77928Z",
     "shell.execute_reply": "2023-04-27T13:41:13.778098Z",
     "shell.execute_reply.started": "2023-04-27T13:41:13.771871Z"
    }
   },
   "outputs": [
    {
     "name": "stdout",
     "output_type": "stream",
     "text": [
      "True\n",
      "True\n"
     ]
    }
   ],
   "source": [
    "tempa = [1, 2, 3] < [1, 2, 4]\n",
    "print(tempa)\n",
    "tempb = 'ABC' < 'C'\n",
    "print(tempb)"
   ]
  },
  {
   "cell_type": "markdown",
   "metadata": {},
   "source": [
    "<div>\n",
    "<ul>\n",
    "    <li>For the expression in the first line, as the third elements follows the inequality hence, the expression is true.</li>\n",
    "    <li>For the the second expression, the inequality holds for the check in the first elements hence, the expression is true. </li>\n",
    "</ul>\n",
    "</div>"
   ]
  },
  {
   "cell_type": "markdown",
   "metadata": {},
   "source": [
    "<div>\n",
    " <h1 id = \"comprehensions\" style = \"font-size:30px; font-family:verdana ; font-weight : normal; background-color: #f6f5f5 ; color : #fe346e; text-align: center; border-radius: 100px 100px; padding: 10px\">Comprehensions\n",
    "<a class=\"anchor-link\" href=\"https://www.kaggle.com/code/varunnagpalspyz/ml-ai-week-1-data-structures-in-python/notebook#comprehensions\">¶</a>\n",
    "</h1>\n",
    "Comprehensions in Python are used to generate new sequences based on existing sequences. In the below cell, demonstrate the use of comprehension construct for creating\n",
    "<ul>\n",
    "    <li> Lists: [x**2 for x in range(10)] </li>\n",
    "    <li> Sets: {c for c in 'abracadabra' if c not in 'abc'}</li>\n",
    "    <li> Dictionary: {x: x ** 2 for x in range(10)}</li>\n",
    "</ul>\n",
    "</div>"
   ]
  },
  {
   "cell_type": "code",
   "execution_count": 111,
   "metadata": {
    "execution": {
     "iopub.execute_input": "2023-04-27T13:41:13.782907Z",
     "iopub.status.busy": "2023-04-27T13:41:13.782141Z",
     "iopub.status.idle": "2023-04-27T13:41:13.790206Z",
     "shell.execute_reply": "2023-04-27T13:41:13.78899Z",
     "shell.execute_reply.started": "2023-04-27T13:41:13.78287Z"
    }
   },
   "outputs": [
    {
     "name": "stdout",
     "output_type": "stream",
     "text": [
      "List: [0, 1, 4, 9, 16, 25, 36, 49, 64, 81]\n",
      "Set: {'d', 'r'}\n",
      "Dictionary: {0: 0, 1: 1, 2: 4, 3: 9, 4: 16, 5: 25, 6: 36, 7: 49, 8: 64, 9: 81}\n"
     ]
    }
   ],
   "source": [
    "data = [x**2 for x in range(10)]\n",
    "print(\"List:\", data)\n",
    "data = {x for x in 'abracadabra' if x not in 'abc'}\n",
    "print(\"Set:\", data)\n",
    "data = {x: x**2 for x in range(10)}\n",
    "print(\"Dictionary:\", data)"
   ]
  },
  {
   "cell_type": "code",
   "execution_count": null,
   "metadata": {},
   "outputs": [],
   "source": []
  }
 ],
 "metadata": {
  "kernelspec": {
   "display_name": "Python 3 (ipykernel)",
   "language": "python",
   "name": "python3"
  },
  "language_info": {
   "codemirror_mode": {
    "name": "ipython",
    "version": 3
   },
   "file_extension": ".py",
   "mimetype": "text/x-python",
   "name": "python",
   "nbconvert_exporter": "python",
   "pygments_lexer": "ipython3",
   "version": "3.9.6"
  }
 },
 "nbformat": 4,
 "nbformat_minor": 4
}
